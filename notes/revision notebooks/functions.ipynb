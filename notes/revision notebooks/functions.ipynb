{
 "cells": [
  {
   "cell_type": "markdown",
   "source": [
    "## Functions"
   ],
   "metadata": {
    "collapsed": false
   }
  },
  {
   "cell_type": "code",
   "execution_count": 5,
   "outputs": [
    {
     "data": {
      "text/plain": "1"
     },
     "execution_count": 5,
     "metadata": {},
     "output_type": "execute_result"
    }
   ],
   "source": [
    "def my_function_1():\n",
    "    # This function returns the integer 1\n",
    "    output = 1\n",
    "    return output\n",
    "\n",
    "my_function_1()"
   ],
   "metadata": {
    "collapsed": false,
    "ExecuteTime": {
     "end_time": "2025-05-08T09:38:14.881753700Z",
     "start_time": "2025-05-08T09:38:14.865665700Z"
    }
   }
  },
  {
   "cell_type": "code",
   "execution_count": 8,
   "outputs": [
    {
     "name": "stdout",
     "output_type": "stream",
     "text": [
      "1\n"
     ]
    }
   ],
   "source": [
    "def my_function_2(input):\n",
    "    # This function prints the value of the input\n",
    "    print(input)\n",
    "\n",
    "my_function_2(my_function_1()) #here I pass the output of my_function_1() to my_function_2()"
   ],
   "metadata": {
    "collapsed": false,
    "ExecuteTime": {
     "end_time": "2025-05-08T09:41:07.076198700Z",
     "start_time": "2025-05-08T09:41:07.061490100Z"
    }
   }
  },
  {
   "cell_type": "code",
   "execution_count": 9,
   "outputs": [
    {
     "data": {
      "text/plain": "3"
     },
     "execution_count": 9,
     "metadata": {},
     "output_type": "execute_result"
    }
   ],
   "source": [
    "colours = ['red', 'green', 'blue']\n",
    "len(colours)"
   ],
   "metadata": {
    "collapsed": false,
    "ExecuteTime": {
     "end_time": "2025-05-08T09:43:13.690686300Z",
     "start_time": "2025-05-08T09:43:13.666698Z"
    }
   }
  },
  {
   "cell_type": "code",
   "execution_count": 10,
   "outputs": [
    {
     "data": {
      "text/plain": "60"
     },
     "execution_count": 10,
     "metadata": {},
     "output_type": "execute_result"
    }
   ],
   "source": [
    "ages = [10, 20, 30]\n",
    "sum(ages)"
   ],
   "metadata": {
    "collapsed": false,
    "ExecuteTime": {
     "end_time": "2025-05-08T09:43:30.578436100Z",
     "start_time": "2025-05-08T09:43:30.521141700Z"
    }
   }
  },
  {
   "cell_type": "code",
   "execution_count": 11,
   "outputs": [
    {
     "data": {
      "text/plain": "[1, 2, 3, 4, 6]"
     },
     "execution_count": 11,
     "metadata": {},
     "output_type": "execute_result"
    }
   ],
   "source": [
    "unsorted_list = [4, 2, 6, 1, 3]\n",
    "sorted_list = sorted(unsorted_list) #sorted() returns a new list, it is a function\n",
    "sorted_list"
   ],
   "metadata": {
    "collapsed": false,
    "ExecuteTime": {
     "end_time": "2025-05-08T09:44:37.883405900Z",
     "start_time": "2025-05-08T09:44:37.882898900Z"
    }
   }
  },
  {
   "cell_type": "code",
   "execution_count": 12,
   "outputs": [
    {
     "data": {
      "text/plain": "[4, 2, 6, 1, 3]"
     },
     "execution_count": 12,
     "metadata": {},
     "output_type": "execute_result"
    }
   ],
   "source": [
    "unsorted_list"
   ],
   "metadata": {
    "collapsed": false,
    "ExecuteTime": {
     "end_time": "2025-05-08T09:44:45.191120500Z",
     "start_time": "2025-05-08T09:44:45.173363600Z"
    }
   }
  },
  {
   "cell_type": "code",
   "execution_count": 15,
   "outputs": [
    {
     "data": {
      "text/plain": "[1, 2, 3, 4, 6]"
     },
     "execution_count": 15,
     "metadata": {},
     "output_type": "execute_result"
    }
   ],
   "source": [
    "unsorted_list.sort() # sort() is a method\n",
    "unsorted_list"
   ],
   "metadata": {
    "collapsed": false,
    "ExecuteTime": {
     "end_time": "2025-05-08T09:46:02.906492300Z",
     "start_time": "2025-05-08T09:46:02.845376800Z"
    }
   }
  },
  {
   "cell_type": "code",
   "execution_count": 17,
   "outputs": [],
   "source": [
    "#adding documentation to a function\n",
    "def documented_function():\n",
    "    \"\"\"\n",
    "    This is a documented function\n",
    "    \"\"\"\n",
    "    #function body goes here\n",
    "    print(\"Hello world\")"
   ],
   "metadata": {
    "collapsed": false,
    "ExecuteTime": {
     "end_time": "2025-05-08T09:50:07.988311500Z",
     "start_time": "2025-05-08T09:50:07.966545400Z"
    }
   }
  },
  {
   "cell_type": "code",
   "execution_count": 18,
   "outputs": [
    {
     "name": "stdout",
     "output_type": "stream",
     "text": [
      "Hello world\n"
     ]
    }
   ],
   "source": [
    "documented_function()"
   ],
   "metadata": {
    "collapsed": false,
    "ExecuteTime": {
     "end_time": "2025-05-08T09:50:16.010712200Z",
     "start_time": "2025-05-08T09:50:16.010208500Z"
    }
   }
  },
  {
   "cell_type": "code",
   "execution_count": 20,
   "outputs": [
    {
     "data": {
      "text/plain": "'\\n    This is a documented function\\n    '"
     },
     "execution_count": 20,
     "metadata": {},
     "output_type": "execute_result"
    }
   ],
   "source": [
    "#to read the documentation\n",
    "documented_function.__doc__"
   ],
   "metadata": {
    "collapsed": false,
    "ExecuteTime": {
     "end_time": "2025-05-08T09:51:56.696308200Z",
     "start_time": "2025-05-08T09:51:56.687976300Z"
    }
   }
  },
  {
   "cell_type": "code",
   "execution_count": 23,
   "outputs": [
    {
     "data": {
      "text/plain": "3"
     },
     "execution_count": 23,
     "metadata": {},
     "output_type": "execute_result"
    }
   ],
   "source": [
    "def add(x: int, y: int) -> int: #this is just a hint, it is not a requirement and will not raise an error\n",
    "    return x + y\n",
    "\n",
    "add(1, 2)"
   ],
   "metadata": {
    "collapsed": false,
    "ExecuteTime": {
     "end_time": "2025-05-08T09:57:19.455709800Z",
     "start_time": "2025-05-08T09:57:19.412078500Z"
    }
   }
  },
  {
   "cell_type": "code",
   "execution_count": 24,
   "outputs": [
    {
     "data": {
      "text/plain": "'ab'"
     },
     "execution_count": 24,
     "metadata": {},
     "output_type": "execute_result"
    }
   ],
   "source": [
    "add('a', 'b') # in order to restrict the input you need to check the type within the function"
   ],
   "metadata": {
    "collapsed": false,
    "ExecuteTime": {
     "end_time": "2025-05-08T09:58:04.494698Z",
     "start_time": "2025-05-08T09:58:04.479374500Z"
    }
   }
  },
  {
   "cell_type": "markdown",
   "source": [
    "## argument vs parameter - argument is the value passed to the function, parameter is the variable used in the function definition.\n"
   ],
   "metadata": {
    "collapsed": false
   }
  },
  {
   "cell_type": "code",
   "execution_count": 25,
   "outputs": [],
   "source": [
    "# to make a function fo nothing we use pass (to satisfy the requirement of a function for a non-empty body)\n",
    "def do_nothing():\n",
    "    pass"
   ],
   "metadata": {
    "collapsed": false,
    "ExecuteTime": {
     "end_time": "2025-05-08T10:01:54.506837Z",
     "start_time": "2025-05-08T10:01:54.506837Z"
    }
   }
  },
  {
   "cell_type": "code",
   "execution_count": 26,
   "outputs": [],
   "source": [
    "do_nothing()"
   ],
   "metadata": {
    "collapsed": false,
    "ExecuteTime": {
     "end_time": "2025-05-08T10:01:59.779145600Z",
     "start_time": "2025-05-08T10:01:59.779145600Z"
    }
   }
  },
  {
   "cell_type": "code",
   "execution_count": 27,
   "outputs": [
    {
     "name": "stdout",
     "output_type": "stream",
     "text": [
      "None\n"
     ]
    }
   ],
   "source": [
    "print(do_nothing())"
   ],
   "metadata": {
    "collapsed": false,
    "ExecuteTime": {
     "end_time": "2025-05-08T10:02:22.989909600Z",
     "start_time": "2025-05-08T10:02:22.974884300Z"
    }
   }
  },
  {
   "cell_type": "code",
   "execution_count": 28,
   "outputs": [
    {
     "data": {
      "text/plain": "NoneType"
     },
     "execution_count": 28,
     "metadata": {},
     "output_type": "execute_result"
    }
   ],
   "source": [
    "type(do_nothing())"
   ],
   "metadata": {
    "collapsed": false,
    "ExecuteTime": {
     "end_time": "2025-05-08T10:02:30.466590400Z",
     "start_time": "2025-05-08T10:02:30.466590400Z"
    }
   }
  },
  {
   "cell_type": "code",
   "execution_count": 33,
   "outputs": [],
   "source": [
    "# a variadic parameter is a parameter that accepts a variable number of arguments. It is denoted by *args\n",
    "def ArtistNames(*names):\n",
    "    for name in names:\n",
    "        print(name)"
   ],
   "metadata": {
    "collapsed": false,
    "ExecuteTime": {
     "end_time": "2025-05-08T10:50:02.911783900Z",
     "start_time": "2025-05-08T10:50:02.894979500Z"
    }
   }
  },
  {
   "cell_type": "code",
   "execution_count": 34,
   "outputs": [
    {
     "name": "stdout",
     "output_type": "stream",
     "text": [
      "Johannes Vermeer\n",
      "Rembrandt\n",
      "Vincent van Gogh\n",
      "Leonardo da Vinci\n"
     ]
    }
   ],
   "source": [
    "ArtistNames('Johannes Vermeer', 'Rembrandt', 'Vincent van Gogh', 'Leonardo da Vinci')\n"
   ],
   "metadata": {
    "collapsed": false,
    "ExecuteTime": {
     "end_time": "2025-05-08T10:50:03.552906500Z",
     "start_time": "2025-05-08T10:50:03.512487200Z"
    }
   }
  },
  {
   "cell_type": "code",
   "execution_count": null,
   "outputs": [],
   "source": [],
   "metadata": {
    "collapsed": false
   }
  },
  {
   "cell_type": "code",
   "execution_count": null,
   "outputs": [],
   "source": [
    "# if you don't add the * to the variadic parameter, it expects a single argument\n",
    "def ArtistNames(names):\n",
    "    for name in names:\n",
    "        print(name)"
   ],
   "metadata": {
    "collapsed": false
   }
  },
  {
   "cell_type": "code",
   "execution_count": null,
   "outputs": [],
   "source": [
    "try:\n",
    "    ArtistNames('Johannes Vermeer', 'Rembrandt', 'Vincent van Gogh', 'Leonardo da Vinci')\n",
    "except TypeError as e:\n",
    "    print(e)"
   ],
   "metadata": {
    "collapsed": false
   }
  },
  {
   "cell_type": "code",
   "execution_count": null,
   "outputs": [],
   "source": [
    "# if you pass a list to the function, it will not unpack it, so you need to unpack it\n",
    "#ArtistNames(['Johannes Vermeer', 'Rembrandt', 'Vincent van Gogh', 'Leonardo da Vinci'])"
   ],
   "metadata": {
    "collapsed": false
   }
  },
  {
   "cell_type": "code",
   "execution_count": null,
   "outputs": [],
   "source": [
    "# to unpack the list, you need to use the *\n",
    "ArtistNames(*['Johannes Vermeer', 'Rembrandt', 'Vincent van Gogh', 'Leonardo da Vinci'])"
   ],
   "metadata": {
    "collapsed": false
   }
  },
  {
   "cell_type": "code",
   "execution_count": 35,
   "outputs": [
    {
     "name": "stdout",
     "output_type": "stream",
     "text": [
      "Mary ('little',)\n",
      "had ('little',)\n",
      "a ('little',)\n",
      "little ('little',)\n",
      "lamb ('little',)\n",
      "Little ('little',)\n",
      "lamb, ('little',)\n",
      "little ('little',)\n",
      "lamb ('little',)\n",
      "Mary ('little',)\n",
      "had ('little',)\n",
      "a ('little',)\n",
      "little ('little',)\n",
      "lamb.Its ('little',)\n",
      "fleece ('little',)\n",
      "was ('little',)\n",
      "white ('little',)\n",
      "as ('little',)\n",
      "snow ('little',)\n",
      "And ('little',)\n",
      "everywhere ('little',)\n",
      "that ('little',)\n",
      "Mary ('little',)\n",
      "went ('little',)\n",
      "Mary ('little',)\n",
      "went, ('little',)\n",
      "Mary ('little',)\n",
      "went ('little',)\n",
      "Everywhere ('little',)\n",
      "that ('little',)\n",
      "Mary ('little',)\n",
      "went ('little',)\n",
      "The ('little',)\n",
      "lamb ('little',)\n",
      "was ('little',)\n",
      "sure ('little',)\n",
      "to ('little',)\n",
      "go ('little',)\n",
      "0\n"
     ]
    }
   ],
   "source": [
    "def find_word(term, sentence):\n",
    "    words = []\n",
    "    count = 0\n",
    "    words = sentence.split(' ')\n",
    "    for word in words:\n",
    "        if str(term) == str(word):\n",
    "            count += 1\n",
    "        print (word, term)\n",
    "    return count\n",
    "term = 'little'\n",
    "sentence = \"Mary had a little lamb Little lamb, little lamb Mary had a little lamb.Its fleece was white as snow And everywhere that Mary went Mary went, Mary went Everywhere that Mary went The lamb was sure to go\"\n",
    "print(find_word(term, sentence))"
   ],
   "metadata": {
    "collapsed": false,
    "ExecuteTime": {
     "end_time": "2025-05-08T11:22:31.190355300Z",
     "start_time": "2025-05-08T11:22:31.166362600Z"
    }
   }
  },
  {
   "cell_type": "markdown",
   "source": [
    "## error handling"
   ],
   "metadata": {
    "collapsed": false
   }
  },
  {
   "cell_type": "code",
   "execution_count": 40,
   "outputs": [
    {
     "name": "stdout",
     "output_type": "stream",
     "text": [
      "File found\n",
      "File closed\n"
     ]
    }
   ],
   "source": [
    "try:\n",
    "    test_file = open(\"test_file.txt\", \"w\")\n",
    "    test_file.write(\"test\")\n",
    "except(IOError):\n",
    "    print(\"File not found\")\n",
    "except:\n",
    "    print(\"Something went wrong\")\n",
    "else:\n",
    "    print(\"File found\")\n",
    "finally:\n",
    "    test_file.close()\n",
    "    print(\"File closed\")\n"
   ],
   "metadata": {
    "collapsed": false,
    "ExecuteTime": {
     "end_time": "2025-05-08T11:48:04.636455100Z",
     "start_time": "2025-05-08T11:48:04.624349700Z"
    }
   }
  },
  {
   "cell_type": "code",
   "execution_count": 41,
   "outputs": [
    {
     "data": {
      "text/plain": "'test'"
     },
     "execution_count": 41,
     "metadata": {},
     "output_type": "execute_result"
    }
   ],
   "source": [
    "test_file = open(\"test_file.txt\", \"r\")\n",
    "test_file.read()"
   ],
   "metadata": {
    "collapsed": false,
    "ExecuteTime": {
     "end_time": "2025-05-08T11:48:53.420510600Z",
     "start_time": "2025-05-08T11:48:53.396526100Z"
    }
   }
  },
  {
   "cell_type": "code",
   "execution_count": 42,
   "outputs": [],
   "source": [
    "test_file.close()\n"
   ],
   "metadata": {
    "collapsed": false,
    "ExecuteTime": {
     "end_time": "2025-05-08T11:49:17.519397Z",
     "start_time": "2025-05-08T11:49:17.514791700Z"
    }
   }
  },
  {
   "cell_type": "markdown",
   "source": [
    "## Here is a list of most common errors:\n",
    "\n",
    "# NameError: when you try to access a variable that doesn't exist\n",
    "# TypeError: when you try to use a variable of the wrong type\n",
    "# IndexError: when you try to access an index that doesn't exist in a list\n",
    "# KeyError: when you try to access a key that doesn't exist in a dictionary\n",
    "# ValueError: when you try to use a value that doesn't exist for example int('a')\n",
    "# AttributeError: when you try to access an attribute that doesn't exist\n",
    "#"
   ],
   "metadata": {
    "collapsed": false
   }
  },
  {
   "cell_type": "code",
   "execution_count": 43,
   "outputs": [
    {
     "name": "stdout",
     "output_type": "stream",
     "text": [
      "Can't divide by zero.\n",
      "The result is None\n"
     ]
    }
   ],
   "source": [
    "def division(a, b):\n",
    "    try:\n",
    "        result = a/b\n",
    "        return result\n",
    "    except(ZeroDivisionError):\n",
    "        print(\"Can't divide by zero.\")\n",
    "        return None\n",
    "print(f'The result is {division(6, 0)}')"
   ],
   "metadata": {
    "collapsed": false,
    "ExecuteTime": {
     "end_time": "2025-05-08T12:05:46.256458800Z",
     "start_time": "2025-05-08T12:05:46.220941900Z"
    }
   }
  },
  {
   "cell_type": "code",
   "execution_count": 46,
   "outputs": [
    {
     "name": "stdout",
     "output_type": "stream",
     "text": [
      "Can't divide by zero.\n",
      "The result is None\n"
     ]
    }
   ],
   "source": [
    "numerator = input('enter a numerator: ')\n",
    "denominator = input('enter a denominator: ')\n",
    "print(f'The result is {division(int(numerator), int(denominator))}')"
   ],
   "metadata": {
    "collapsed": false,
    "ExecuteTime": {
     "end_time": "2025-05-08T12:07:36.747601700Z",
     "start_time": "2025-05-08T12:07:29.027989Z"
    }
   }
  },
  {
   "cell_type": "markdown",
   "source": [
    "## Classes and Objects"
   ],
   "metadata": {
    "collapsed": false
   }
  },
  {
   "cell_type": "code",
   "execution_count": 81,
   "outputs": [],
   "source": [
    "class Item():\n",
    "    def __init__(self, name, weight, colour, material):\n",
    "        self.name = name\n",
    "        self.mass = weight\n",
    "        self.colour = colour\n",
    "        self.material = material\n",
    "    def weight(self):\n",
    "        print(f'The {self.name} is {self.mass} kg.')"
   ],
   "metadata": {
    "collapsed": false,
    "ExecuteTime": {
     "end_time": "2025-05-08T16:02:49.198443100Z",
     "start_time": "2025-05-08T16:02:49.195442300Z"
    }
   }
  },
  {
   "cell_type": "code",
   "execution_count": 82,
   "outputs": [],
   "source": [
    "chair = Item('chair', 4,  'white', 'wood')"
   ],
   "metadata": {
    "collapsed": false,
    "ExecuteTime": {
     "end_time": "2025-05-08T16:02:49.452721600Z",
     "start_time": "2025-05-08T16:02:49.448359300Z"
    }
   }
  },
  {
   "cell_type": "code",
   "execution_count": 83,
   "outputs": [
    {
     "name": "stdout",
     "output_type": "stream",
     "text": [
      "The chair is 4 kg.\n"
     ]
    }
   ],
   "source": [
    "chair.weight()"
   ],
   "metadata": {
    "collapsed": false,
    "ExecuteTime": {
     "end_time": "2025-05-08T16:02:49.653391200Z",
     "start_time": "2025-05-08T16:02:49.648838Z"
    }
   }
  },
  {
   "cell_type": "code",
   "execution_count": 84,
   "outputs": [
    {
     "data": {
      "text/plain": "['__class__',\n '__delattr__',\n '__dict__',\n '__dir__',\n '__doc__',\n '__eq__',\n '__format__',\n '__ge__',\n '__getattribute__',\n '__getstate__',\n '__gt__',\n '__hash__',\n '__init__',\n '__init_subclass__',\n '__le__',\n '__lt__',\n '__module__',\n '__ne__',\n '__new__',\n '__reduce__',\n '__reduce_ex__',\n '__repr__',\n '__setattr__',\n '__sizeof__',\n '__str__',\n '__subclasshook__',\n '__weakref__',\n 'colour',\n 'mass',\n 'material',\n 'name',\n 'weight']"
     },
     "execution_count": 84,
     "metadata": {},
     "output_type": "execute_result"
    }
   ],
   "source": [
    "#to see all methods and atributes use dir()\n",
    "dir(chair)"
   ],
   "metadata": {
    "collapsed": false,
    "ExecuteTime": {
     "end_time": "2025-05-08T16:05:57.750436400Z",
     "start_time": "2025-05-08T16:05:57.713350100Z"
    }
   }
  },
  {
   "cell_type": "code",
   "execution_count": 91,
   "outputs": [
    {
     "data": {
      "text/plain": "['colour', 'mass', 'material', 'name', 'weight']"
     },
     "execution_count": 91,
     "metadata": {},
     "output_type": "execute_result"
    }
   ],
   "source": [
    "#to remove the __dunders__\n",
    "attribs = [attribute for attribute in dir(chair) if not attribute.startswith('__')]\n",
    "attribs"
   ],
   "metadata": {
    "collapsed": false,
    "ExecuteTime": {
     "end_time": "2025-05-08T16:20:31.585178800Z",
     "start_time": "2025-05-08T16:20:31.520068100Z"
    }
   }
  },
  {
   "cell_type": "markdown",
   "source": [
    "## List comprehensions"
   ],
   "metadata": {
    "collapsed": false
   }
  },
  {
   "cell_type": "code",
   "execution_count": 93,
   "outputs": [
    {
     "data": {
      "text/plain": "[2, 4, 6, 8, 10]"
     },
     "execution_count": 93,
     "metadata": {},
     "output_type": "execute_result"
    }
   ],
   "source": [
    "numbers = [1, 2, 3, 4, 5, 6, 7, 8, 9, 10]\n",
    "evens = []\n",
    "\n",
    "for number in numbers:\n",
    "    if number % 2 == 0:\n",
    "        evens.append(number)\n",
    "\n",
    "evens"
   ],
   "metadata": {
    "collapsed": false,
    "ExecuteTime": {
     "end_time": "2025-05-08T16:26:10.928791100Z",
     "start_time": "2025-05-08T16:26:10.924047800Z"
    }
   }
  },
  {
   "cell_type": "code",
   "execution_count": 95,
   "outputs": [
    {
     "data": {
      "text/plain": "[2, 4, 6, 8, 10, 12, 14, 16, 18, 20]"
     },
     "execution_count": 95,
     "metadata": {},
     "output_type": "execute_result"
    }
   ],
   "source": [
    "numbers = [1, 2, 3, 4, 5, 6, 7, 8, 9, 10, 11, 12, 13, 14, 15, 16, 17, 18, 19, 20]\n",
    "evens = [number for number in numbers if number % 2 == 0]\n",
    "evens"
   ],
   "metadata": {
    "collapsed": false,
    "ExecuteTime": {
     "end_time": "2025-05-08T16:27:11.211997600Z",
     "start_time": "2025-05-08T16:27:11.207362400Z"
    }
   }
  },
  {
   "cell_type": "code",
   "execution_count": 118,
   "outputs": [
    {
     "data": {
      "text/plain": "[11, 13, 17, 19, 23, 29, 31, 37, 41, 43, 47]"
     },
     "execution_count": 118,
     "metadata": {},
     "output_type": "execute_result"
    }
   ],
   "source": [
    "numbers = []\n",
    "for i in range(10, 51):\n",
    "    numbers.append(i)\n",
    "\n",
    "primes = []\n",
    "for number in numbers:\n",
    "    for factor in range(2, number):\n",
    "        if number % factor == 0:\n",
    "            break\n",
    "        elif factor == number-1:\n",
    "            primes.append(number)\n",
    "primes"
   ],
   "metadata": {
    "collapsed": false,
    "ExecuteTime": {
     "end_time": "2025-05-08T16:54:49.018722300Z",
     "start_time": "2025-05-08T16:54:49.015166500Z"
    }
   }
  },
  {
   "cell_type": "code",
   "execution_count": 119,
   "outputs": [],
   "source": [
    "primes = [number for number in numbers if all(number % factor != 0 for factor in range(2, number-1))]"
   ],
   "metadata": {
    "collapsed": false,
    "ExecuteTime": {
     "end_time": "2025-05-08T16:54:52.088154100Z",
     "start_time": "2025-05-08T16:54:52.083098400Z"
    }
   }
  },
  {
   "cell_type": "code",
   "execution_count": 120,
   "outputs": [
    {
     "data": {
      "text/plain": "[11, 13, 17, 19, 23, 29, 31, 37, 41, 43, 47]"
     },
     "execution_count": 120,
     "metadata": {},
     "output_type": "execute_result"
    }
   ],
   "source": [
    "primes"
   ],
   "metadata": {
    "collapsed": false,
    "ExecuteTime": {
     "end_time": "2025-05-08T16:54:52.247971Z",
     "start_time": "2025-05-08T16:54:52.242334900Z"
    }
   }
  },
  {
   "cell_type": "markdown",
   "source": [
    "## if all condition"
   ],
   "metadata": {
    "collapsed": false
   }
  },
  {
   "cell_type": "code",
   "execution_count": 121,
   "outputs": [],
   "source": [
    "# result = [x for x in items if all(condition(y) for y in x)]"
   ],
   "metadata": {
    "collapsed": false,
    "ExecuteTime": {
     "end_time": "2025-05-08T17:10:58.814804200Z",
     "start_time": "2025-05-08T17:10:58.786706900Z"
    }
   }
  },
  {
   "cell_type": "markdown",
   "source": [
    "## Opening Files"
   ],
   "metadata": {
    "collapsed": false
   }
  },
  {
   "cell_type": "code",
   "execution_count": 124,
   "outputs": [
    {
     "name": "stdout",
     "output_type": "stream",
     "text": [
      "test\n"
     ]
    }
   ],
   "source": [
    "#to automatically close a file upon opening use the with statement:\n",
    "\n",
    "with open('test_file.txt', 'r') as file1:\n",
    "    contents = file1.read()\n",
    "print(contents)"
   ],
   "metadata": {
    "collapsed": false,
    "ExecuteTime": {
     "end_time": "2025-05-08T17:13:14.769688Z",
     "start_time": "2025-05-08T17:13:14.762408900Z"
    }
   }
  },
  {
   "cell_type": "code",
   "execution_count": 125,
   "outputs": [
    {
     "name": "stdout",
     "output_type": "stream",
     "text": [
      "True\n"
     ]
    }
   ],
   "source": [
    "print (file1.closed)"
   ],
   "metadata": {
    "collapsed": false,
    "ExecuteTime": {
     "end_time": "2025-05-08T17:13:31.302408200Z",
     "start_time": "2025-05-08T17:13:31.270195700Z"
    }
   }
  },
  {
   "cell_type": "code",
   "execution_count": 135,
   "outputs": [],
   "source": [
    "contents = []\n",
    "with open('exercise_file_1.txt', 'r') as efile1:\n",
    "    while True:\n",
    "        line = efile1.readline()\n",
    "        contents.append(line)\n",
    "        if not line:\n",
    "            break"
   ],
   "metadata": {
    "collapsed": false,
    "ExecuteTime": {
     "end_time": "2025-05-08T17:25:38.544197600Z",
     "start_time": "2025-05-08T17:25:38.540500900Z"
    }
   }
  },
  {
   "cell_type": "code",
   "execution_count": 137,
   "outputs": [
    {
     "data": {
      "text/plain": "['This is the first line of the file.',\n 'It has multiple lines.',\n 'Each line ends with a newline character.',\n 'You can read and write to this file.',\n \"It's a good idea to practice file I/O.\",\n 'Files are an important part of programming.',\n 'You can store data in files.',\n 'And read it back later.',\n 'Files can be used for many things.',\n 'Like storing user data.',\n 'Or logging events.',\n '']"
     },
     "execution_count": 137,
     "metadata": {},
     "output_type": "execute_result"
    }
   ],
   "source": [
    "contents = [line.strip() for line in contents]\n",
    "contents"
   ],
   "metadata": {
    "collapsed": false,
    "ExecuteTime": {
     "end_time": "2025-05-08T17:27:16.435896900Z",
     "start_time": "2025-05-08T17:27:16.429303Z"
    }
   }
  },
  {
   "cell_type": "code",
   "execution_count": null,
   "outputs": [],
   "source": [],
   "metadata": {
    "collapsed": false
   }
  }
 ],
 "metadata": {
  "kernelspec": {
   "display_name": "Python 3",
   "language": "python",
   "name": "python3"
  },
  "language_info": {
   "codemirror_mode": {
    "name": "ipython",
    "version": 2
   },
   "file_extension": ".py",
   "mimetype": "text/x-python",
   "name": "python",
   "nbconvert_exporter": "python",
   "pygments_lexer": "ipython2",
   "version": "2.7.6"
  }
 },
 "nbformat": 4,
 "nbformat_minor": 0
}
