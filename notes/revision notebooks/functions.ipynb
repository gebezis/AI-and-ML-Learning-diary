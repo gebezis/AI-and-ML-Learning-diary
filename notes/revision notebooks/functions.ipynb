{
 "cells": [
  {
   "cell_type": "markdown",
   "source": [
    "## Functions"
   ],
   "metadata": {
    "collapsed": false
   }
  },
  {
   "cell_type": "code",
   "execution_count": 48,
   "outputs": [
    {
     "data": {
      "text/plain": "1"
     },
     "execution_count": 48,
     "metadata": {},
     "output_type": "execute_result"
    }
   ],
   "source": [
    "def my_function_1():\n",
    "    # This function returns the integer 1\n",
    "    output = 1\n",
    "    return output\n",
    "\n",
    "my_function_1()"
   ],
   "metadata": {
    "collapsed": false,
    "ExecuteTime": {
     "end_time": "2025-05-08T17:52:59.029110300Z",
     "start_time": "2025-05-08T17:52:58.788275200Z"
    }
   }
  },
  {
   "cell_type": "code",
   "execution_count": 49,
   "outputs": [
    {
     "name": "stdout",
     "output_type": "stream",
     "text": [
      "1\n"
     ]
    }
   ],
   "source": [
    "def my_function_2(input):\n",
    "    # This function prints the value of the input\n",
    "    print(input)\n",
    "\n",
    "my_function_2(my_function_1()) #here I pass the output of my_function_1() to my_function_2()"
   ],
   "metadata": {
    "collapsed": false,
    "ExecuteTime": {
     "end_time": "2025-05-08T17:52:59.279919200Z",
     "start_time": "2025-05-08T17:52:58.797267Z"
    }
   }
  },
  {
   "cell_type": "code",
   "execution_count": 50,
   "outputs": [
    {
     "data": {
      "text/plain": "3"
     },
     "execution_count": 50,
     "metadata": {},
     "output_type": "execute_result"
    }
   ],
   "source": [
    "colours = ['red', 'green', 'blue']\n",
    "len(colours)"
   ],
   "metadata": {
    "collapsed": false,
    "ExecuteTime": {
     "end_time": "2025-05-08T17:52:59.456658300Z",
     "start_time": "2025-05-08T17:52:58.809255500Z"
    }
   }
  },
  {
   "cell_type": "code",
   "execution_count": 51,
   "outputs": [
    {
     "data": {
      "text/plain": "60"
     },
     "execution_count": 51,
     "metadata": {},
     "output_type": "execute_result"
    }
   ],
   "source": [
    "ages = [10, 20, 30]\n",
    "sum(ages)"
   ],
   "metadata": {
    "collapsed": false,
    "ExecuteTime": {
     "end_time": "2025-05-08T17:52:59.559249900Z",
     "start_time": "2025-05-08T17:52:58.817122Z"
    }
   }
  },
  {
   "cell_type": "code",
   "execution_count": 52,
   "outputs": [
    {
     "data": {
      "text/plain": "[1, 2, 3, 4, 6]"
     },
     "execution_count": 52,
     "metadata": {},
     "output_type": "execute_result"
    }
   ],
   "source": [
    "unsorted_list = [4, 2, 6, 1, 3]\n",
    "sorted_list = sorted(unsorted_list) #sorted() returns a new list, it is a function\n",
    "sorted_list"
   ],
   "metadata": {
    "collapsed": false,
    "ExecuteTime": {
     "end_time": "2025-05-08T17:52:59.652582200Z",
     "start_time": "2025-05-08T17:52:58.828130700Z"
    }
   }
  },
  {
   "cell_type": "code",
   "execution_count": 53,
   "outputs": [
    {
     "data": {
      "text/plain": "[4, 2, 6, 1, 3]"
     },
     "execution_count": 53,
     "metadata": {},
     "output_type": "execute_result"
    }
   ],
   "source": [
    "unsorted_list"
   ],
   "metadata": {
    "collapsed": false,
    "ExecuteTime": {
     "end_time": "2025-05-08T17:52:59.655586800Z",
     "start_time": "2025-05-08T17:52:58.843955Z"
    }
   }
  },
  {
   "cell_type": "code",
   "execution_count": 54,
   "outputs": [
    {
     "data": {
      "text/plain": "[1, 2, 3, 4, 6]"
     },
     "execution_count": 54,
     "metadata": {},
     "output_type": "execute_result"
    }
   ],
   "source": [
    "unsorted_list.sort() # sort() is a method\n",
    "unsorted_list"
   ],
   "metadata": {
    "collapsed": false,
    "ExecuteTime": {
     "end_time": "2025-05-08T17:52:59.711085600Z",
     "start_time": "2025-05-08T17:52:58.855426800Z"
    }
   }
  },
  {
   "cell_type": "code",
   "execution_count": 55,
   "outputs": [],
   "source": [
    "#adding documentation to a function\n",
    "def documented_function():\n",
    "    \"\"\"\n",
    "    This is a documented function\n",
    "    \"\"\"\n",
    "    #function body goes here\n",
    "    print(\"Hello world\")"
   ],
   "metadata": {
    "collapsed": false,
    "ExecuteTime": {
     "end_time": "2025-05-08T17:52:59.714110800Z",
     "start_time": "2025-05-08T17:52:58.889946600Z"
    }
   }
  },
  {
   "cell_type": "code",
   "execution_count": 56,
   "outputs": [
    {
     "name": "stdout",
     "output_type": "stream",
     "text": [
      "Hello world\n"
     ]
    }
   ],
   "source": [
    "documented_function()"
   ],
   "metadata": {
    "collapsed": false,
    "ExecuteTime": {
     "end_time": "2025-05-08T17:52:59.714110800Z",
     "start_time": "2025-05-08T17:52:58.908778400Z"
    }
   }
  },
  {
   "cell_type": "code",
   "execution_count": 57,
   "outputs": [
    {
     "data": {
      "text/plain": "'\\n    This is a documented function\\n    '"
     },
     "execution_count": 57,
     "metadata": {},
     "output_type": "execute_result"
    }
   ],
   "source": [
    "#to read the documentation\n",
    "documented_function.__doc__"
   ],
   "metadata": {
    "collapsed": false,
    "ExecuteTime": {
     "end_time": "2025-05-08T17:52:59.714110800Z",
     "start_time": "2025-05-08T17:52:58.937376Z"
    }
   }
  },
  {
   "cell_type": "code",
   "execution_count": 58,
   "outputs": [
    {
     "data": {
      "text/plain": "3"
     },
     "execution_count": 58,
     "metadata": {},
     "output_type": "execute_result"
    }
   ],
   "source": [
    "def add(x: int, y: int) -> int: #this is just a hint, it is not a requirement and will not raise an error\n",
    "    return x + y\n",
    "\n",
    "add(1, 2)"
   ],
   "metadata": {
    "collapsed": false,
    "ExecuteTime": {
     "end_time": "2025-05-08T17:52:59.714110800Z",
     "start_time": "2025-05-08T17:52:58.949210300Z"
    }
   }
  },
  {
   "cell_type": "code",
   "execution_count": 59,
   "outputs": [
    {
     "data": {
      "text/plain": "'ab'"
     },
     "execution_count": 59,
     "metadata": {},
     "output_type": "execute_result"
    }
   ],
   "source": [
    "add('a', 'b') # in order to restrict the input you need to check the type within the function"
   ],
   "metadata": {
    "collapsed": false,
    "ExecuteTime": {
     "end_time": "2025-05-08T17:52:59.714110800Z",
     "start_time": "2025-05-08T17:52:58.972590700Z"
    }
   }
  },
  {
   "cell_type": "markdown",
   "source": [
    "## argument vs parameter - argument is the value passed to the function, parameter is the variable used in the function definition.\n"
   ],
   "metadata": {
    "collapsed": false
   }
  },
  {
   "cell_type": "code",
   "execution_count": 60,
   "outputs": [],
   "source": [
    "# to make a function fo nothing we use pass (to satisfy the requirement of a function for a non-empty body)\n",
    "def do_nothing():\n",
    "    pass"
   ],
   "metadata": {
    "collapsed": false,
    "ExecuteTime": {
     "end_time": "2025-05-08T17:52:59.714110800Z",
     "start_time": "2025-05-08T17:52:58.985694500Z"
    }
   }
  },
  {
   "cell_type": "code",
   "execution_count": 61,
   "outputs": [],
   "source": [
    "do_nothing()"
   ],
   "metadata": {
    "collapsed": false,
    "ExecuteTime": {
     "end_time": "2025-05-08T17:52:59.714110800Z",
     "start_time": "2025-05-08T17:52:59.029548800Z"
    }
   }
  },
  {
   "cell_type": "code",
   "execution_count": 62,
   "outputs": [
    {
     "name": "stdout",
     "output_type": "stream",
     "text": [
      "None\n"
     ]
    }
   ],
   "source": [
    "print(do_nothing())"
   ],
   "metadata": {
    "collapsed": false,
    "ExecuteTime": {
     "end_time": "2025-05-08T17:52:59.714110800Z",
     "start_time": "2025-05-08T17:52:59.029548800Z"
    }
   }
  },
  {
   "cell_type": "code",
   "execution_count": 63,
   "outputs": [
    {
     "data": {
      "text/plain": "NoneType"
     },
     "execution_count": 63,
     "metadata": {},
     "output_type": "execute_result"
    }
   ],
   "source": [
    "type(do_nothing())"
   ],
   "metadata": {
    "collapsed": false,
    "ExecuteTime": {
     "end_time": "2025-05-08T17:52:59.714110800Z",
     "start_time": "2025-05-08T17:52:59.042874500Z"
    }
   }
  },
  {
   "cell_type": "code",
   "execution_count": 64,
   "outputs": [],
   "source": [
    "# a variadic parameter is a parameter that accepts a variable number of arguments. It is denoted by *args\n",
    "def ArtistNames(*names):\n",
    "    for name in names:\n",
    "        print(name)"
   ],
   "metadata": {
    "collapsed": false,
    "ExecuteTime": {
     "end_time": "2025-05-08T17:52:59.714110800Z",
     "start_time": "2025-05-08T17:52:59.058542400Z"
    }
   }
  },
  {
   "cell_type": "code",
   "execution_count": 65,
   "outputs": [
    {
     "name": "stdout",
     "output_type": "stream",
     "text": [
      "Johannes Vermeer\n",
      "Rembrandt\n",
      "Vincent van Gogh\n",
      "Leonardo da Vinci\n"
     ]
    }
   ],
   "source": [
    "ArtistNames('Johannes Vermeer', 'Rembrandt', 'Vincent van Gogh', 'Leonardo da Vinci')\n"
   ],
   "metadata": {
    "collapsed": false,
    "ExecuteTime": {
     "end_time": "2025-05-08T17:52:59.714110800Z",
     "start_time": "2025-05-08T17:52:59.070279400Z"
    }
   }
  },
  {
   "cell_type": "code",
   "execution_count": 65,
   "outputs": [],
   "source": [],
   "metadata": {
    "collapsed": false,
    "ExecuteTime": {
     "end_time": "2025-05-08T17:52:59.714110800Z",
     "start_time": "2025-05-08T17:52:59.160103100Z"
    }
   }
  },
  {
   "cell_type": "code",
   "execution_count": 66,
   "outputs": [],
   "source": [
    "# if you don't add the * to the variadic parameter, it expects a single argument\n",
    "def ArtistNames(names):\n",
    "    for name in names:\n",
    "        print(name)"
   ],
   "metadata": {
    "collapsed": false,
    "ExecuteTime": {
     "end_time": "2025-05-08T17:52:59.714110800Z",
     "start_time": "2025-05-08T17:52:59.197077600Z"
    }
   }
  },
  {
   "cell_type": "code",
   "execution_count": 67,
   "outputs": [
    {
     "name": "stdout",
     "output_type": "stream",
     "text": [
      "ArtistNames() takes 1 positional argument but 4 were given\n"
     ]
    }
   ],
   "source": [
    "try:\n",
    "    ArtistNames('Johannes Vermeer', 'Rembrandt', 'Vincent van Gogh', 'Leonardo da Vinci')\n",
    "except TypeError as e:\n",
    "    print(e)"
   ],
   "metadata": {
    "collapsed": false,
    "ExecuteTime": {
     "end_time": "2025-05-08T17:52:59.718738300Z",
     "start_time": "2025-05-08T17:52:59.202740100Z"
    }
   }
  },
  {
   "cell_type": "code",
   "execution_count": 68,
   "outputs": [],
   "source": [
    "# if you pass a list to the function, it will not unpack it, so you need to unpack it\n",
    "#ArtistNames(['Johannes Vermeer', 'Rembrandt', 'Vincent van Gogh', 'Leonardo da Vinci'])"
   ],
   "metadata": {
    "collapsed": false,
    "ExecuteTime": {
     "end_time": "2025-05-08T17:52:59.718738300Z",
     "start_time": "2025-05-08T17:52:59.223926600Z"
    }
   }
  },
  {
   "cell_type": "code",
   "execution_count": 69,
   "outputs": [],
   "source": [
    "# to unpack the list, you need to use the *\n",
    "#ArtistNames(*['Johannes Vermeer', 'Rembrandt', 'Vincent van Gogh', 'Leonardo da Vinci'])"
   ],
   "metadata": {
    "collapsed": false,
    "ExecuteTime": {
     "end_time": "2025-05-08T17:52:59.718738300Z",
     "start_time": "2025-05-08T17:52:59.250853700Z"
    }
   }
  },
  {
   "cell_type": "code",
   "execution_count": 70,
   "outputs": [
    {
     "name": "stdout",
     "output_type": "stream",
     "text": [
      "Mary little\n",
      "had little\n",
      "a little\n",
      "little little\n",
      "lamb little\n",
      "Little little\n",
      "lamb, little\n",
      "little little\n",
      "lamb little\n",
      "Mary little\n",
      "had little\n",
      "a little\n",
      "little little\n",
      "lamb.Its little\n",
      "fleece little\n",
      "was little\n",
      "white little\n",
      "as little\n",
      "snow little\n",
      "And little\n",
      "everywhere little\n",
      "that little\n",
      "Mary little\n",
      "went little\n",
      "Mary little\n",
      "went, little\n",
      "Mary little\n",
      "went little\n",
      "Everywhere little\n",
      "that little\n",
      "Mary little\n",
      "went little\n",
      "The little\n",
      "lamb little\n",
      "was little\n",
      "sure little\n",
      "to little\n",
      "go little\n",
      "3\n"
     ]
    }
   ],
   "source": [
    "def find_word(term, sentence):\n",
    "    words = []\n",
    "    count = 0\n",
    "    words = sentence.split(' ')\n",
    "    for word in words:\n",
    "        if str(term) == str(word):\n",
    "            count += 1\n",
    "        print (word, term)\n",
    "    return count\n",
    "term = 'little'\n",
    "sentence = \"Mary had a little lamb Little lamb, little lamb Mary had a little lamb.Its fleece was white as snow And everywhere that Mary went Mary went, Mary went Everywhere that Mary went The lamb was sure to go\"\n",
    "print(find_word(term, sentence))"
   ],
   "metadata": {
    "collapsed": false,
    "ExecuteTime": {
     "end_time": "2025-05-08T17:52:59.718738300Z",
     "start_time": "2025-05-08T17:52:59.270944200Z"
    }
   }
  },
  {
   "cell_type": "markdown",
   "source": [
    "## error handling"
   ],
   "metadata": {
    "collapsed": false
   }
  },
  {
   "cell_type": "code",
   "execution_count": 71,
   "outputs": [
    {
     "name": "stdout",
     "output_type": "stream",
     "text": [
      "File found\n",
      "File closed\n"
     ]
    }
   ],
   "source": [
    "try:\n",
    "    test_file = open(\"practice text files/test_file.txt\", \"w\")\n",
    "    test_file.write(\"test\")\n",
    "except(IOError):\n",
    "    print(\"File not found\")\n",
    "except:\n",
    "    print(\"Something went wrong\")\n",
    "else:\n",
    "    print(\"File found\")\n",
    "finally:\n",
    "    test_file.close()\n",
    "    print(\"File closed\")\n"
   ],
   "metadata": {
    "collapsed": false,
    "ExecuteTime": {
     "end_time": "2025-05-08T17:52:59.718738300Z",
     "start_time": "2025-05-08T17:52:59.284783300Z"
    }
   }
  },
  {
   "cell_type": "code",
   "execution_count": 72,
   "outputs": [
    {
     "data": {
      "text/plain": "'test'"
     },
     "execution_count": 72,
     "metadata": {},
     "output_type": "execute_result"
    }
   ],
   "source": [
    "test_file = open(\"practice text files/test_file.txt\", \"r\")\n",
    "test_file.read()"
   ],
   "metadata": {
    "collapsed": false,
    "ExecuteTime": {
     "end_time": "2025-05-08T17:52:59.718738300Z",
     "start_time": "2025-05-08T17:52:59.308883Z"
    }
   }
  },
  {
   "cell_type": "code",
   "execution_count": 73,
   "outputs": [],
   "source": [
    "test_file.close()\n"
   ],
   "metadata": {
    "collapsed": false,
    "ExecuteTime": {
     "end_time": "2025-05-08T17:52:59.718738300Z",
     "start_time": "2025-05-08T17:52:59.338268100Z"
    }
   }
  },
  {
   "cell_type": "markdown",
   "source": [
    "## Here is a list of most common errors:\n",
    "\n",
    "### NameError: when you try to access a variable that doesn't exist\n",
    "### TypeError: when you try to use a variable of the wrong type\n",
    "### IndexError: when you try to access an index that doesn't exist in a list\n",
    "### KeyError: when you try to access a key that doesn't exist in a dictionary\n",
    "### ValueError: when you try to use a value that doesn't exist for example int('a')\n",
    "### AttributeError: when you try to access an attribute that doesn't exist"
   ],
   "metadata": {
    "collapsed": false
   }
  },
  {
   "cell_type": "code",
   "execution_count": 74,
   "outputs": [
    {
     "name": "stdout",
     "output_type": "stream",
     "text": [
      "Can't divide by zero.\n",
      "The result is None\n"
     ]
    }
   ],
   "source": [
    "def division(a, b):\n",
    "    try:\n",
    "        result = a/b\n",
    "        return result\n",
    "    except(ZeroDivisionError):\n",
    "        print(\"Can't divide by zero.\")\n",
    "        return None\n",
    "print(f'The result is {division(6, 0)}')"
   ],
   "metadata": {
    "collapsed": false,
    "ExecuteTime": {
     "end_time": "2025-05-08T17:52:59.718738300Z",
     "start_time": "2025-05-08T17:52:59.366087500Z"
    }
   }
  },
  {
   "cell_type": "code",
   "execution_count": 75,
   "outputs": [
    {
     "name": "stdout",
     "output_type": "stream",
     "text": [
      "The result is 1.25\n"
     ]
    }
   ],
   "source": [
    "numerator = input('enter a numerator: ')\n",
    "denominator = input('enter a denominator: ')\n",
    "print(f'The result is {division(int(numerator), int(denominator))}')"
   ],
   "metadata": {
    "collapsed": false,
    "ExecuteTime": {
     "end_time": "2025-05-08T17:53:06.567373500Z",
     "start_time": "2025-05-08T17:52:59.379270Z"
    }
   }
  },
  {
   "cell_type": "markdown",
   "source": [
    "## Classes and Objects"
   ],
   "metadata": {
    "collapsed": false
   }
  },
  {
   "cell_type": "code",
   "execution_count": 76,
   "outputs": [],
   "source": [
    "class Item():\n",
    "    def __init__(self, name, weight, colour, material):\n",
    "        self.name = name\n",
    "        self.mass = weight\n",
    "        self.colour = colour\n",
    "        self.material = material\n",
    "    def weight(self):\n",
    "        print(f'The {self.name} is {self.mass} kg.')"
   ],
   "metadata": {
    "collapsed": false,
    "ExecuteTime": {
     "end_time": "2025-05-08T17:53:06.567373500Z",
     "start_time": "2025-05-08T17:53:06.546512300Z"
    }
   }
  },
  {
   "cell_type": "code",
   "execution_count": 77,
   "outputs": [],
   "source": [
    "chair = Item('chair', 4,  'white', 'wood')"
   ],
   "metadata": {
    "collapsed": false,
    "ExecuteTime": {
     "end_time": "2025-05-08T17:53:06.581175700Z",
     "start_time": "2025-05-08T17:53:06.552732700Z"
    }
   }
  },
  {
   "cell_type": "code",
   "execution_count": 78,
   "outputs": [
    {
     "name": "stdout",
     "output_type": "stream",
     "text": [
      "The chair is 4 kg.\n"
     ]
    }
   ],
   "source": [
    "chair.weight()"
   ],
   "metadata": {
    "collapsed": false,
    "ExecuteTime": {
     "end_time": "2025-05-08T17:53:06.586385500Z",
     "start_time": "2025-05-08T17:53:06.573494600Z"
    }
   }
  },
  {
   "cell_type": "code",
   "execution_count": 79,
   "outputs": [
    {
     "data": {
      "text/plain": "['__class__',\n '__delattr__',\n '__dict__',\n '__dir__',\n '__doc__',\n '__eq__',\n '__format__',\n '__ge__',\n '__getattribute__',\n '__getstate__',\n '__gt__',\n '__hash__',\n '__init__',\n '__init_subclass__',\n '__le__',\n '__lt__',\n '__module__',\n '__ne__',\n '__new__',\n '__reduce__',\n '__reduce_ex__',\n '__repr__',\n '__setattr__',\n '__sizeof__',\n '__str__',\n '__subclasshook__',\n '__weakref__',\n 'colour',\n 'mass',\n 'material',\n 'name',\n 'weight']"
     },
     "execution_count": 79,
     "metadata": {},
     "output_type": "execute_result"
    }
   ],
   "source": [
    "#to see all methods and atributes use dir()\n",
    "dir(chair)"
   ],
   "metadata": {
    "collapsed": false,
    "ExecuteTime": {
     "end_time": "2025-05-08T17:53:06.594302300Z",
     "start_time": "2025-05-08T17:53:06.583384200Z"
    }
   }
  },
  {
   "cell_type": "code",
   "execution_count": 80,
   "outputs": [
    {
     "data": {
      "text/plain": "['colour', 'mass', 'material', 'name', 'weight']"
     },
     "execution_count": 80,
     "metadata": {},
     "output_type": "execute_result"
    }
   ],
   "source": [
    "#to remove the __dunders__\n",
    "attribs = [attribute for attribute in dir(chair) if not attribute.startswith('__')]\n",
    "attribs"
   ],
   "metadata": {
    "collapsed": false,
    "ExecuteTime": {
     "end_time": "2025-05-08T17:53:06.690855100Z",
     "start_time": "2025-05-08T17:53:06.591300300Z"
    }
   }
  },
  {
   "cell_type": "markdown",
   "source": [
    "## List comprehensions"
   ],
   "metadata": {
    "collapsed": false
   }
  },
  {
   "cell_type": "code",
   "execution_count": 81,
   "outputs": [
    {
     "data": {
      "text/plain": "[2, 4, 6, 8, 10]"
     },
     "execution_count": 81,
     "metadata": {},
     "output_type": "execute_result"
    }
   ],
   "source": [
    "numbers = [1, 2, 3, 4, 5, 6, 7, 8, 9, 10]\n",
    "evens = []\n",
    "\n",
    "for number in numbers:\n",
    "    if number % 2 == 0:\n",
    "        evens.append(number)\n",
    "\n",
    "evens"
   ],
   "metadata": {
    "collapsed": false,
    "ExecuteTime": {
     "end_time": "2025-05-08T17:53:06.691849400Z",
     "start_time": "2025-05-08T17:53:06.602346400Z"
    }
   }
  },
  {
   "cell_type": "code",
   "execution_count": 82,
   "outputs": [
    {
     "data": {
      "text/plain": "[2, 4, 6, 8, 10, 12, 14, 16, 18, 20]"
     },
     "execution_count": 82,
     "metadata": {},
     "output_type": "execute_result"
    }
   ],
   "source": [
    "numbers = [1, 2, 3, 4, 5, 6, 7, 8, 9, 10, 11, 12, 13, 14, 15, 16, 17, 18, 19, 20]\n",
    "evens = [number for number in numbers if number % 2 == 0]\n",
    "evens"
   ],
   "metadata": {
    "collapsed": false,
    "ExecuteTime": {
     "end_time": "2025-05-08T17:53:06.691849400Z",
     "start_time": "2025-05-08T17:53:06.611714900Z"
    }
   }
  },
  {
   "cell_type": "code",
   "execution_count": 83,
   "outputs": [
    {
     "data": {
      "text/plain": "[11, 13, 17, 19, 23, 29, 31, 37, 41, 43, 47]"
     },
     "execution_count": 83,
     "metadata": {},
     "output_type": "execute_result"
    }
   ],
   "source": [
    "numbers = []\n",
    "for i in range(10, 51):\n",
    "    numbers.append(i)\n",
    "\n",
    "primes = []\n",
    "for number in numbers:\n",
    "    for factor in range(2, number):\n",
    "        if number % factor == 0:\n",
    "            break\n",
    "        elif factor == number-1:\n",
    "            primes.append(number)\n",
    "primes"
   ],
   "metadata": {
    "collapsed": false,
    "ExecuteTime": {
     "end_time": "2025-05-08T17:53:06.692302300Z",
     "start_time": "2025-05-08T17:53:06.619538300Z"
    }
   }
  },
  {
   "cell_type": "code",
   "execution_count": 84,
   "outputs": [],
   "source": [
    "primes = [number for number in numbers if all(number % factor != 0 for factor in range(2, number-1))]"
   ],
   "metadata": {
    "collapsed": false,
    "ExecuteTime": {
     "end_time": "2025-05-08T17:53:06.692808500Z",
     "start_time": "2025-05-08T17:53:06.631465400Z"
    }
   }
  },
  {
   "cell_type": "code",
   "execution_count": 85,
   "outputs": [
    {
     "data": {
      "text/plain": "[11, 13, 17, 19, 23, 29, 31, 37, 41, 43, 47]"
     },
     "execution_count": 85,
     "metadata": {},
     "output_type": "execute_result"
    }
   ],
   "source": [
    "primes"
   ],
   "metadata": {
    "collapsed": false,
    "ExecuteTime": {
     "end_time": "2025-05-08T17:53:06.694807Z",
     "start_time": "2025-05-08T17:53:06.638849800Z"
    }
   }
  },
  {
   "cell_type": "markdown",
   "source": [
    "## if all condition"
   ],
   "metadata": {
    "collapsed": false
   }
  },
  {
   "cell_type": "code",
   "execution_count": 86,
   "outputs": [],
   "source": [
    "# result = [x for x in items if all(condition(y) for y in x)]"
   ],
   "metadata": {
    "collapsed": false,
    "ExecuteTime": {
     "end_time": "2025-05-08T17:53:06.789507100Z",
     "start_time": "2025-05-08T17:53:06.662396600Z"
    }
   }
  },
  {
   "cell_type": "markdown",
   "source": [
    "## Opening Files"
   ],
   "metadata": {
    "collapsed": false
   }
  },
  {
   "cell_type": "code",
   "execution_count": 87,
   "outputs": [
    {
     "name": "stdout",
     "output_type": "stream",
     "text": [
      "test\n"
     ]
    }
   ],
   "source": [
    "#to automatically close a file upon opening use the with statement:\n",
    "\n",
    "with open('practice text files/test_file.txt', 'r') as file1:\n",
    "    contents = file1.read()\n",
    "print(contents)"
   ],
   "metadata": {
    "collapsed": false,
    "ExecuteTime": {
     "end_time": "2025-05-08T17:53:06.822478200Z",
     "start_time": "2025-05-08T17:53:06.694807Z"
    }
   }
  },
  {
   "cell_type": "code",
   "execution_count": 88,
   "outputs": [
    {
     "name": "stdout",
     "output_type": "stream",
     "text": [
      "True\n"
     ]
    }
   ],
   "source": [
    "print (file1.closed)"
   ],
   "metadata": {
    "collapsed": false,
    "ExecuteTime": {
     "end_time": "2025-05-08T17:53:06.825475600Z",
     "start_time": "2025-05-08T17:53:06.707167500Z"
    }
   }
  },
  {
   "cell_type": "code",
   "execution_count": 89,
   "outputs": [],
   "source": [
    "contents = []\n",
    "with open('practice text files/exercise_file_1.txt', 'r') as efile1:\n",
    "    while True:\n",
    "        line = efile1.readline()\n",
    "        contents.append(line)\n",
    "        if not line:\n",
    "            break"
   ],
   "metadata": {
    "collapsed": false,
    "ExecuteTime": {
     "end_time": "2025-05-08T17:53:06.825475600Z",
     "start_time": "2025-05-08T17:53:06.728626200Z"
    }
   }
  },
  {
   "cell_type": "code",
   "execution_count": 90,
   "outputs": [
    {
     "data": {
      "text/plain": "['This is the first line of the file.',\n 'It has multiple lines.',\n 'Each line ends with a newline character.',\n 'You can read and write to this file.',\n \"It's a good idea to practice file I/O.\",\n 'Files are an important part of programming.',\n 'You can store data in files.',\n 'And read it back later.',\n 'Files can be used for many things.',\n 'Like storing user data.',\n 'Or logging events.',\n '']"
     },
     "execution_count": 90,
     "metadata": {},
     "output_type": "execute_result"
    }
   ],
   "source": [
    "contents = [line.strip() for line in contents]\n",
    "contents"
   ],
   "metadata": {
    "collapsed": false,
    "ExecuteTime": {
     "end_time": "2025-05-08T17:53:06.825475600Z",
     "start_time": "2025-05-08T17:53:06.737531400Z"
    }
   }
  },
  {
   "cell_type": "code",
   "execution_count": 91,
   "outputs": [],
   "source": [
    "import os\n",
    "\n",
    "# Define the new path\n",
    "new_path = 'practice text files'\n",
    "\n",
    "# Define the file extension to search for\n",
    "file_ext = '.txt'\n",
    "\n",
    "# Create the new path if it does not exist\n",
    "if not os.path.exists(new_path):\n",
    "    os.makedirs(new_path)\n",
    "\n",
    "# Loop through all files in the current directory\n",
    "for file in os.listdir('.'):\n",
    "    if file.endswith(file_ext):\n",
    "        os.replace(file, os.path.join(new_path, file))"
   ],
   "metadata": {
    "collapsed": false,
    "ExecuteTime": {
     "end_time": "2025-05-08T17:53:06.825475600Z",
     "start_time": "2025-05-08T17:53:06.756107100Z"
    }
   }
  },
  {
   "cell_type": "code",
   "execution_count": 91,
   "outputs": [],
   "source": [],
   "metadata": {
    "collapsed": false,
    "ExecuteTime": {
     "end_time": "2025-05-08T17:53:06.825475600Z",
     "start_time": "2025-05-08T17:53:06.762794Z"
    }
   }
  }
 ],
 "metadata": {
  "kernelspec": {
   "display_name": "Python 3",
   "language": "python",
   "name": "python3"
  },
  "language_info": {
   "codemirror_mode": {
    "name": "ipython",
    "version": 2
   },
   "file_extension": ".py",
   "mimetype": "text/x-python",
   "name": "python",
   "nbconvert_exporter": "python",
   "pygments_lexer": "ipython2",
   "version": "2.7.6"
  }
 },
 "nbformat": 4,
 "nbformat_minor": 0
}
