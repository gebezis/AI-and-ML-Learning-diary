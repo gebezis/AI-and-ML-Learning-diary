{
 "cells": [
  {
   "cell_type": "markdown",
   "metadata": {},
   "source": [
    "### Type"
   ]
  },
  {
   "cell_type": "code",
   "execution_count": 11,
   "metadata": {
    "ExecuteTime": {
     "end_time": "2025-05-07T19:13:23practice text files/174190200Z",
     "start_time": "2025-05-07T19:13:23practice text files/167194Z"
    }
   },
   "outputs": [
    {
     "data": {
      "text/plain": "11"
     },
     "execution_count": 11,
     "metadata": {},
     "output_type": "execute_result"
    }
   ],
   "source": [
    "11 #integer"
   ]
  },
  {
   "cell_type": "code",
   "execution_count": 12,
   "metadata": {
    "ExecuteTime": {
     "end_time": "2025-05-07T19:13:36practice text files/799765900Z",
     "start_time": "2025-05-07T19:13:36practice text files/769387100Z"
    }
   },
   "outputs": [
    {
     "data": {
      "text/plain": "int"
     },
     "execution_count": 12,
     "metadata": {},
     "output_type": "execute_result"
    }
   ],
   "source": [
    "type(11) #prints the type of the variable"
   ]
  },
  {
   "cell_type": "code",
   "execution_count": 39,
   "metadata": {
    "ExecuteTime": {
     "end_time": "2025-05-07T17:07:04practice text files/467516100Z",
     "start_time": "2025-05-07T17:07:04practice text files/294942500Z"
    }
   },
   "outputs": [
    {
     "data": {
      "text/plain": "float"
     },
     "execution_count": 39,
     "metadata": {},
     "output_type": "execute_result"
    }
   ],
   "source": [
    "type(11practice text files/1)\n"
   ]
  },
  {
   "cell_type": "code",
   "execution_count": 40,
   "metadata": {
    "ExecuteTime": {
     "end_time": "2025-05-07T17:07:04practice text files/467516100Z",
     "start_time": "2025-05-07T17:07:04practice text files/312207700Z"
    }
   },
   "outputs": [
    {
     "data": {
      "text/plain": "str"
     },
     "execution_count": 40,
     "metadata": {},
     "output_type": "execute_result"
    }
   ],
   "source": [
    "type('a')\n"
   ]
  },
  {
   "cell_type": "code",
   "execution_count": 41,
   "metadata": {
    "ExecuteTime": {
     "end_time": "2025-05-07T17:07:04practice text files/467516100Z",
     "start_time": "2025-05-07T17:07:04practice text files/345159800Z"
    }
   },
   "outputs": [
    {
     "data": {
      "text/plain": "bool"
     },
     "execution_count": 41,
     "metadata": {},
     "output_type": "execute_result"
    }
   ],
   "source": [
    "type(True)"
   ]
  },
  {
   "cell_type": "code",
   "execution_count": 42,
   "metadata": {
    "ExecuteTime": {
     "end_time": "2025-05-07T17:07:04practice text files/467516100Z",
     "start_time": "2025-05-07T17:07:04practice text files/358408100Z"
    }
   },
   "outputs": [
    {
     "data": {
      "text/plain": "str"
     },
     "execution_count": 42,
     "metadata": {},
     "output_type": "execute_result"
    }
   ],
   "source": [
    "type('1')"
   ]
  },
  {
   "cell_type": "code",
   "execution_count": 43,
   "outputs": [
    {
     "data": {
      "text/plain": "complex"
     },
     "execution_count": 43,
     "metadata": {},
     "output_type": "execute_result"
    }
   ],
   "source": [
    "type(1+1j)"
   ],
   "metadata": {
    "collapsed": false,
    "ExecuteTime": {
     "end_time": "2025-05-07T17:07:04practice text files/467516100Z",
     "start_time": "2025-05-07T17:07:04practice text files/369435200Z"
    }
   }
  },
  {
   "cell_type": "markdown",
   "source": [
    "### Casting"
   ],
   "metadata": {
    "collapsed": false
   }
  },
  {
   "cell_type": "code",
   "execution_count": 44,
   "outputs": [
    {
     "data": {
      "text/plain": "1"
     },
     "execution_count": 44,
     "metadata": {},
     "output_type": "execute_result"
    }
   ],
   "source": [
    "int('1') #converts a string to an integer"
   ],
   "metadata": {
    "collapsed": false,
    "ExecuteTime": {
     "end_time": "2025-05-07T17:07:04practice text files/467516100Z",
     "start_time": "2025-05-07T17:07:04practice text files/376187600Z"
    }
   }
  },
  {
   "cell_type": "code",
   "execution_count": 45,
   "outputs": [
    {
     "data": {
      "text/plain": "True"
     },
     "execution_count": 45,
     "metadata": {},
     "output_type": "execute_result"
    }
   ],
   "source": [
    "bool(1) #converts a number to a boolean"
   ],
   "metadata": {
    "collapsed": false,
    "ExecuteTime": {
     "end_time": "2025-05-07T17:07:04practice text files/488498400Z",
     "start_time": "2025-05-07T17:07:04practice text files/390712600Z"
    }
   }
  },
  {
   "cell_type": "code",
   "execution_count": 46,
   "outputs": [
    {
     "data": {
      "text/plain": "1practice text files/0"
     },
     "execution_count": 46,
     "metadata": {},
     "output_type": "execute_result"
    }
   ],
   "source": [
    "float(True) #converts a boolean to a float"
   ],
   "metadata": {
    "collapsed": false,
    "ExecuteTime": {
     "end_time": "2025-05-07T17:07:04practice text files/488498400Z",
     "start_time": "2025-05-07T17:07:04practice text files/414687100Z"
    }
   }
  },
  {
   "cell_type": "markdown",
   "source": [
    "To handle an error:"
   ],
   "metadata": {
    "collapsed": false
   }
  },
  {
   "cell_type": "code",
   "execution_count": 47,
   "outputs": [
    {
     "name": "stdout",
     "output_type": "stream",
     "text": [
      "invalid literal for int() with base 10: 'a'\n"
     ]
    }
   ],
   "source": [
    "try:\n",
    "    int('a')\n",
    "except ValueError as e:\n",
    "    print(e)"
   ],
   "metadata": {
    "collapsed": false,
    "ExecuteTime": {
     "end_time": "2025-05-07T17:07:04practice text files/488498400Z",
     "start_time": "2025-05-07T17:07:04practice text files/439889300Z"
    }
   }
  },
  {
   "cell_type": "markdown",
   "source": [
    "### To round a float to a given number of decimal places I cannot use int(), I need to use round()"
   ],
   "metadata": {
    "collapsed": false
   }
  },
  {
   "cell_type": "code",
   "execution_count": 48,
   "outputs": [
    {
     "data": {
      "text/plain": "1practice text files/23"
     },
     "execution_count": 48,
     "metadata": {},
     "output_type": "execute_result"
    }
   ],
   "source": [
    "round(1practice text files/234567, 2) #rounds to 2 decimal places"
   ],
   "metadata": {
    "collapsed": false,
    "ExecuteTime": {
     "end_time": "2025-05-07T17:07:04practice text files/593831400Z",
     "start_time": "2025-05-07T17:07:04practice text files/455528500Z"
    }
   }
  },
  {
   "cell_type": "code",
   "execution_count": 49,
   "outputs": [
    {
     "data": {
      "text/plain": "1"
     },
     "execution_count": 49,
     "metadata": {},
     "output_type": "execute_result"
    }
   ],
   "source": [
    "int(1practice text files/234567)  #truncates the decimal places"
   ],
   "metadata": {
    "collapsed": false,
    "ExecuteTime": {
     "end_time": "2025-05-07T17:07:04practice text files/593831400Z",
     "start_time": "2025-05-07T17:07:04practice text files/557884400Z"
    }
   }
  },
  {
   "cell_type": "code",
   "execution_count": 50,
   "outputs": [
    {
     "data": {
      "text/plain": "'False'"
     },
     "execution_count": 50,
     "metadata": {},
     "output_type": "execute_result"
    }
   ],
   "source": [
    "str(False)"
   ],
   "metadata": {
    "collapsed": false,
    "ExecuteTime": {
     "end_time": "2025-05-07T17:07:04practice text files/593831400Z",
     "start_time": "2025-05-07T17:07:04practice text files/568304200Z"
    }
   }
  },
  {
   "cell_type": "markdown",
   "source": [
    "### Floor division"
   ],
   "metadata": {
    "collapsed": false
   }
  },
  {
   "cell_type": "code",
   "execution_count": 51,
   "outputs": [
    {
     "data": {
      "text/plain": "1"
     },
     "execution_count": 51,
     "metadata": {},
     "output_type": "execute_result"
    }
   ],
   "source": [
    "6//4 #divides and returns the floor"
   ],
   "metadata": {
    "collapsed": false,
    "ExecuteTime": {
     "end_time": "2025-05-07T17:07:04practice text files/634202100Z",
     "start_time": "2025-05-07T17:07:04practice text files/587836100Z"
    }
   }
  },
  {
   "cell_type": "code",
   "execution_count": 52,
   "outputs": [
    {
     "data": {
      "text/plain": "2"
     },
     "execution_count": 52,
     "metadata": {},
     "output_type": "execute_result"
    }
   ],
   "source": [
    "6//3"
   ],
   "metadata": {
    "collapsed": false,
    "ExecuteTime": {
     "end_time": "2025-05-07T17:07:04practice text files/636032200Z",
     "start_time": "2025-05-07T17:07:04practice text files/611389200Z"
    }
   }
  },
  {
   "cell_type": "markdown",
   "source": [
    "### String Operations"
   ],
   "metadata": {
    "collapsed": false
   }
  },
  {
   "cell_type": "code",
   "execution_count": 56,
   "outputs": [],
   "source": [
    "Name = 'Evelyne'"
   ],
   "metadata": {
    "collapsed": false,
    "ExecuteTime": {
     "end_time": "2025-05-07T17:07:59practice text files/845377100Z",
     "start_time": "2025-05-07T17:07:59practice text files/827351400Z"
    }
   }
  },
  {
   "cell_type": "code",
   "execution_count": 57,
   "outputs": [
    {
     "data": {
      "text/plain": "'E'"
     },
     "execution_count": 57,
     "metadata": {},
     "output_type": "execute_result"
    }
   ],
   "source": [
    "Name[0] #accessing a character in a string"
   ],
   "metadata": {
    "collapsed": false,
    "ExecuteTime": {
     "end_time": "2025-05-07T17:08:00practice text files/368139500Z",
     "start_time": "2025-05-07T17:08:00practice text files/351463300Z"
    }
   }
  },
  {
   "cell_type": "code",
   "execution_count": 58,
   "outputs": [
    {
     "data": {
      "text/plain": "'ve'"
     },
     "execution_count": 58,
     "metadata": {},
     "output_type": "execute_result"
    }
   ],
   "source": [
    "Name[1:3] #accessing a range of characters in a string - sl"
   ],
   "metadata": {
    "collapsed": false,
    "ExecuteTime": {
     "end_time": "2025-05-07T17:08:00practice text files/785226200Z",
     "start_time": "2025-05-07T17:08:00practice text files/772287600Z"
    }
   }
  },
  {
   "cell_type": "code",
   "execution_count": 59,
   "outputs": [
    {
     "data": {
      "text/plain": "'e'"
     },
     "execution_count": 59,
     "metadata": {},
     "output_type": "execute_result"
    }
   ],
   "source": [
    "Name[-1] #accessing the last character in a string"
   ],
   "metadata": {
    "collapsed": false,
    "ExecuteTime": {
     "end_time": "2025-05-07T17:08:45practice text files/860533Z",
     "start_time": "2025-05-07T17:08:45practice text files/839516400Z"
    }
   }
  },
  {
   "cell_type": "code",
   "execution_count": 60,
   "outputs": [
    {
     "data": {
      "text/plain": "'ne'"
     },
     "execution_count": 60,
     "metadata": {},
     "output_type": "execute_result"
    }
   ],
   "source": [
    "Name[-2:] #accessing the last two characters in a string"
   ],
   "metadata": {
    "collapsed": false,
    "ExecuteTime": {
     "end_time": "2025-05-07T17:08:55practice text files/256059600Z",
     "start_time": "2025-05-07T17:08:55practice text files/232148Z"
    }
   }
  },
  {
   "cell_type": "code",
   "execution_count": 61,
   "outputs": [
    {
     "data": {
      "text/plain": "'nylev'"
     },
     "execution_count": 61,
     "metadata": {},
     "output_type": "execute_result"
    }
   ],
   "source": [
    "Name[-2:0:-1] #accessing the last two characters in a string in reverse"
   ],
   "metadata": {
    "collapsed": false,
    "ExecuteTime": {
     "end_time": "2025-05-07T17:09:38practice text files/399292800Z",
     "start_time": "2025-05-07T17:09:38practice text files/375289600Z"
    }
   }
  },
  {
   "cell_type": "markdown",
   "source": [
    "## variable[start:end:step]\n",
    "start - if not specified, defaults to the beginning of the string\n",
    "end - if not specified, defaults to the end of the string\n",
    "step - if not specified, defaults to 1"
   ],
   "metadata": {
    "collapsed": false
   }
  },
  {
   "cell_type": "code",
   "execution_count": 65,
   "outputs": [
    {
     "data": {
      "text/plain": "'Eeye'"
     },
     "execution_count": 65,
     "metadata": {},
     "output_type": "execute_result"
    }
   ],
   "source": [
    "Name[::2] #every second character"
   ],
   "metadata": {
    "collapsed": false,
    "ExecuteTime": {
     "end_time": "2025-05-07T17:15:07practice text files/536282900Z",
     "start_time": "2025-05-07T17:15:07practice text files/532282600Z"
    }
   }
  },
  {
   "cell_type": "code",
   "execution_count": 67,
   "outputs": [
    {
     "data": {
      "text/plain": "'enylevE'"
     },
     "execution_count": 67,
     "metadata": {},
     "output_type": "execute_result"
    }
   ],
   "source": [
    "Name[::-1] #reverse the string"
   ],
   "metadata": {
    "collapsed": false,
    "ExecuteTime": {
     "end_time": "2025-05-07T17:15:33practice text files/686772100Z",
     "start_time": "2025-05-07T17:15:33practice text files/671579300Z"
    }
   }
  },
  {
   "cell_type": "code",
   "execution_count": 69,
   "outputs": [
    {
     "data": {
      "text/plain": "True"
     },
     "execution_count": 69,
     "metadata": {},
     "output_type": "execute_result"
    }
   ],
   "source": [
    "'Evelyne' in Name"
   ],
   "metadata": {
    "collapsed": false,
    "ExecuteTime": {
     "end_time": "2025-05-07T17:17:52practice text files/059623200Z",
     "start_time": "2025-05-07T17:17:52practice text files/003645200Z"
    }
   }
  },
  {
   "cell_type": "code",
   "execution_count": 71,
   "outputs": [
    {
     "data": {
      "text/plain": "'EVELYNE'"
     },
     "execution_count": 71,
     "metadata": {},
     "output_type": "execute_result"
    }
   ],
   "source": [
    "#other string operations\n",
    "Namepractice text files/upper()"
   ],
   "metadata": {
    "collapsed": false,
    "ExecuteTime": {
     "end_time": "2025-05-07T17:18:31practice text files/799033200Z",
     "start_time": "2025-05-07T17:18:31practice text files/790749200Z"
    }
   }
  },
  {
   "cell_type": "code",
   "execution_count": 73,
   "outputs": [],
   "source": [
    "#Strings are immutable so to replace an index you need to create a new string\n",
    "Name = 'A'+Name[1:]"
   ],
   "metadata": {
    "collapsed": false,
    "ExecuteTime": {
     "end_time": "2025-05-07T17:22:56practice text files/477382700Z",
     "start_time": "2025-05-07T17:22:56practice text files/471387500Z"
    }
   }
  },
  {
   "cell_type": "code",
   "execution_count": 74,
   "outputs": [
    {
     "data": {
      "text/plain": "'Avelyne'"
     },
     "execution_count": 74,
     "metadata": {},
     "output_type": "execute_result"
    }
   ],
   "source": [
    "Name"
   ],
   "metadata": {
    "collapsed": false,
    "ExecuteTime": {
     "end_time": "2025-05-07T17:23:00practice text files/804103100Z",
     "start_time": "2025-05-07T17:23:00practice text files/786119600Z"
    }
   }
  },
  {
   "cell_type": "markdown",
   "source": [
    "### String formatting"
   ],
   "metadata": {
    "collapsed": false
   }
  },
  {
   "cell_type": "code",
   "execution_count": 77,
   "outputs": [
    {
     "name": "stdout",
     "output_type": "stream",
     "text": [
      "Here the \\n will be printed as is\n"
     ]
    }
   ],
   "source": [
    "print(r\"Here the \\n will be printed as is\") #r stands for raw string"
   ],
   "metadata": {
    "collapsed": false,
    "ExecuteTime": {
     "end_time": "2025-05-07T17:25:50practice text files/958241800Z",
     "start_time": "2025-05-07T17:25:50practice text files/950714200Z"
    }
   }
  },
  {
   "cell_type": "code",
   "execution_count": 13,
   "outputs": [
    {
     "name": "stdout",
     "output_type": "stream",
     "text": [
      "Here the \n",
      " will be printed as a new line\n"
     ]
    }
   ],
   "source": [
    "print(\"Here the \\n will be printed as a new line\") #\\n will be interpreted as a new line"
   ],
   "metadata": {
    "collapsed": false,
    "ExecuteTime": {
     "end_time": "2025-05-07T19:16:25practice text files/566382200Z",
     "start_time": "2025-05-07T19:16:25practice text files/542448800Z"
    }
   }
  },
  {
   "cell_type": "code",
   "execution_count": 14,
   "outputs": [
    {
     "name": "stdout",
     "output_type": "stream",
     "text": [
      "Hello, my name is Evelyne and I am 30 years oldpractice text files/\n"
     ]
    }
   ],
   "source": [
    "# f-string\n",
    "Name = 'Evelyne'\n",
    "Age = 30\n",
    "print(f\"Hello, my name is {Name} and I am {Age} years oldpractice text files/\")"
   ],
   "metadata": {
    "collapsed": false,
    "ExecuteTime": {
     "end_time": "2025-05-07T19:16:58practice text files/416412Z",
     "start_time": "2025-05-07T19:16:58practice text files/397919300Z"
    }
   }
  },
  {
   "cell_type": "markdown",
   "source": [
    "### String Methods"
   ],
   "metadata": {
    "collapsed": false
   }
  },
  {
   "cell_type": "code",
   "execution_count": 81,
   "outputs": [],
   "source": [
    "Name = 'Evelyne'"
   ],
   "metadata": {
    "collapsed": false,
    "ExecuteTime": {
     "end_time": "2025-05-07T17:31:41practice text files/344752100Z",
     "start_time": "2025-05-07T17:31:41practice text files/330756900Z"
    }
   }
  },
  {
   "cell_type": "code",
   "execution_count": 82,
   "outputs": [
    {
     "data": {
      "text/plain": "'EVELYNE'"
     },
     "execution_count": 82,
     "metadata": {},
     "output_type": "execute_result"
    }
   ],
   "source": [
    "Namepractice text files/upper() #uppercase"
   ],
   "metadata": {
    "collapsed": false,
    "ExecuteTime": {
     "end_time": "2025-05-07T17:32:00practice text files/982100300Z",
     "start_time": "2025-05-07T17:32:00practice text files/964094700Z"
    }
   }
  },
  {
   "cell_type": "code",
   "execution_count": 83,
   "outputs": [
    {
     "data": {
      "text/plain": "'evelyne'"
     },
     "execution_count": 83,
     "metadata": {},
     "output_type": "execute_result"
    }
   ],
   "source": [
    "Namepractice text files/lower() #lowercase"
   ],
   "metadata": {
    "collapsed": false,
    "ExecuteTime": {
     "end_time": "2025-05-07T17:32:05practice text files/512657700Z",
     "start_time": "2025-05-07T17:32:05practice text files/506662600Z"
    }
   }
  },
  {
   "cell_type": "code",
   "execution_count": 84,
   "outputs": [],
   "source": [
    "Name = 'Evelyne Gebezis'"
   ],
   "metadata": {
    "collapsed": false,
    "ExecuteTime": {
     "end_time": "2025-05-07T17:32:36practice text files/747459400Z",
     "start_time": "2025-05-07T17:32:36practice text files/723445600Z"
    }
   }
  },
  {
   "cell_type": "code",
   "execution_count": 85,
   "outputs": [
    {
     "data": {
      "text/plain": "'Evelyne Gebezis'"
     },
     "execution_count": 85,
     "metadata": {},
     "output_type": "execute_result"
    }
   ],
   "source": [
    "Namepractice text files/title() #capitalize first letter of each word"
   ],
   "metadata": {
    "collapsed": false,
    "ExecuteTime": {
     "end_time": "2025-05-07T17:32:46practice text files/318717600Z",
     "start_time": "2025-05-07T17:32:46practice text files/302705800Z"
    }
   }
  },
  {
   "cell_type": "code",
   "execution_count": 86,
   "outputs": [
    {
     "data": {
      "text/plain": "'Evelyne Gebezis'"
     },
     "execution_count": 86,
     "metadata": {},
     "output_type": "execute_result"
    }
   ],
   "source": [
    "Namepractice text files/strip() #remove leading and trailing spaces"
   ],
   "metadata": {
    "collapsed": false,
    "ExecuteTime": {
     "end_time": "2025-05-07T17:33:12practice text files/910252400Z",
     "start_time": "2025-05-07T17:33:12practice text files/890305900Z"
    }
   }
  },
  {
   "cell_type": "code",
   "execution_count": 87,
   "outputs": [
    {
     "data": {
      "text/plain": "'Eva Gebezis'"
     },
     "execution_count": 87,
     "metadata": {},
     "output_type": "execute_result"
    }
   ],
   "source": [
    "Namepractice text files/replace('Evelyne', 'Eva') #replace a substring with another"
   ],
   "metadata": {
    "collapsed": false,
    "ExecuteTime": {
     "end_time": "2025-05-07T17:34:06practice text files/505351700Z",
     "start_time": "2025-05-07T17:34:06practice text files/484364900Z"
    }
   }
  },
  {
   "cell_type": "code",
   "execution_count": 88,
   "outputs": [
    {
     "data": {
      "text/plain": "['Evelyne', 'Gebezis']"
     },
     "execution_count": 88,
     "metadata": {},
     "output_type": "execute_result"
    }
   ],
   "source": [
    "Namepractice text files/split() #split the string into a list of words"
   ],
   "metadata": {
    "collapsed": false,
    "ExecuteTime": {
     "end_time": "2025-05-07T17:34:29practice text files/449762100Z",
     "start_time": "2025-05-07T17:34:29practice text files/407777300Z"
    }
   }
  },
  {
   "cell_type": "code",
   "execution_count": 89,
   "outputs": [
    {
     "data": {
      "text/plain": "['Evelyne', 'Gebezis']"
     },
     "execution_count": 89,
     "metadata": {},
     "output_type": "execute_result"
    }
   ],
   "source": [
    "Namepractice text files/split(' ') #split the string into a list of words using a specific delimiter"
   ],
   "metadata": {
    "collapsed": false,
    "ExecuteTime": {
     "end_time": "2025-05-07T17:34:40practice text files/740444900Z",
     "start_time": "2025-05-07T17:34:40practice text files/703704200Z"
    }
   }
  },
  {
   "cell_type": "code",
   "execution_count": 90,
   "outputs": [
    {
     "data": {
      "text/plain": "['Ev', 'lyn', ' G', 'b', 'zis']"
     },
     "execution_count": 90,
     "metadata": {},
     "output_type": "execute_result"
    }
   ],
   "source": [
    "Namepractice text files/split('e') #split the string into a list of words using a specific delimiter"
   ],
   "metadata": {
    "collapsed": false,
    "ExecuteTime": {
     "end_time": "2025-05-07T17:34:46practice text files/565130900Z",
     "start_time": "2025-05-07T17:34:46practice text files/544112500Z"
    }
   }
  },
  {
   "cell_type": "code",
   "execution_count": 91,
   "outputs": [
    {
     "data": {
      "text/plain": "0"
     },
     "execution_count": 91,
     "metadata": {},
     "output_type": "execute_result"
    }
   ],
   "source": [
    "Namepractice text files/find('Ev') #find the index of a substring"
   ],
   "metadata": {
    "collapsed": false,
    "ExecuteTime": {
     "end_time": "2025-05-07T17:35:12practice text files/803030400Z",
     "start_time": "2025-05-07T17:35:12practice text files/785043600Z"
    }
   }
  },
  {
   "cell_type": "code",
   "execution_count": 92,
   "outputs": [
    {
     "data": {
      "text/plain": "2"
     },
     "execution_count": 92,
     "metadata": {},
     "output_type": "execute_result"
    }
   ],
   "source": [
    "Namepractice text files/find('e') #find the index of a substring"
   ],
   "metadata": {
    "collapsed": false,
    "ExecuteTime": {
     "end_time": "2025-05-07T17:35:19practice text files/214357800Z",
     "start_time": "2025-05-07T17:35:19practice text files/197618Z"
    }
   }
  },
  {
   "cell_type": "code",
   "execution_count": 93,
   "outputs": [
    {
     "data": {
      "text/plain": "-1"
     },
     "execution_count": 93,
     "metadata": {},
     "output_type": "execute_result"
    }
   ],
   "source": [
    "Namepractice text files/find('x') #find the index of a substring"
   ],
   "metadata": {
    "collapsed": false,
    "ExecuteTime": {
     "end_time": "2025-05-07T17:35:40practice text files/948853700Z",
     "start_time": "2025-05-07T17:35:40practice text files/928878300Z"
    }
   }
  },
  {
   "cell_type": "code",
   "execution_count": 94,
   "outputs": [
    {
     "data": {
      "text/plain": "0"
     },
     "execution_count": 94,
     "metadata": {},
     "output_type": "execute_result"
    }
   ],
   "source": [
    "Namepractice text files/index('Ev') #find the index of a substring"
   ],
   "metadata": {
    "collapsed": false,
    "ExecuteTime": {
     "end_time": "2025-05-07T17:35:54practice text files/899338Z",
     "start_time": "2025-05-07T17:35:54practice text files/895170900Z"
    }
   }
  },
  {
   "cell_type": "code",
   "execution_count": 95,
   "outputs": [
    {
     "data": {
      "text/plain": "4"
     },
     "execution_count": 95,
     "metadata": {},
     "output_type": "execute_result"
    }
   ],
   "source": [
    "Namepractice text files/count('e') #count the number of occurrences of a substring"
   ],
   "metadata": {
    "collapsed": false,
    "ExecuteTime": {
     "end_time": "2025-05-07T17:37:00practice text files/833589200Z",
     "start_time": "2025-05-07T17:37:00practice text files/812607800Z"
    }
   }
  },
  {
   "cell_type": "code",
   "execution_count": 98,
   "outputs": [
    {
     "data": {
      "text/plain": "True"
     },
     "execution_count": 98,
     "metadata": {},
     "output_type": "execute_result"
    }
   ],
   "source": [
    "Namepractice text files/startswith('E') #check if the string starts with a substring"
   ],
   "metadata": {
    "collapsed": false,
    "ExecuteTime": {
     "end_time": "2025-05-07T17:37:29practice text files/700577800Z",
     "start_time": "2025-05-07T17:37:29practice text files/696483600Z"
    }
   }
  },
  {
   "cell_type": "code",
   "execution_count": 99,
   "outputs": [
    {
     "data": {
      "text/plain": "True"
     },
     "execution_count": 99,
     "metadata": {},
     "output_type": "execute_result"
    }
   ],
   "source": [
    "PostalCode = '12345'\n",
    "PostalCodepractice text files/isdigit() #check if the string is a digit"
   ],
   "metadata": {
    "collapsed": false,
    "ExecuteTime": {
     "end_time": "2025-05-07T17:38:15practice text files/680801500Z",
     "start_time": "2025-05-07T17:38:15practice text files/672825400Z"
    }
   }
  },
  {
   "cell_type": "code",
   "execution_count": 100,
   "outputs": [
    {
     "data": {
      "text/plain": "False"
     },
     "execution_count": 100,
     "metadata": {},
     "output_type": "execute_result"
    }
   ],
   "source": [
    "address = '123 Main St'\n",
    "addresspractice text files/isalnum() #check if the string is alphanumeric"
   ],
   "metadata": {
    "collapsed": false,
    "ExecuteTime": {
     "end_time": "2025-05-07T17:38:43practice text files/399990800Z",
     "start_time": "2025-05-07T17:38:43practice text files/358690200Z"
    }
   }
  },
  {
   "cell_type": "code",
   "execution_count": 103,
   "outputs": [
    {
     "data": {
      "text/plain": "True"
     },
     "execution_count": 103,
     "metadata": {},
     "output_type": "execute_result"
    }
   ],
   "source": [
    "address = '123MainSt'\n",
    "addresspractice text files/isalnum() #check if the string is alphanumeric"
   ],
   "metadata": {
    "collapsed": false,
    "ExecuteTime": {
     "end_time": "2025-05-07T17:41:56practice text files/913186500Z",
     "start_time": "2025-05-07T17:41:56practice text files/907260500Z"
    }
   }
  },
  {
   "cell_type": "markdown",
   "source": [
    "##### white spaces are not considered alphanumeric"
   ],
   "metadata": {
    "collapsed": false
   }
  },
  {
   "cell_type": "markdown",
   "source": [
    "### f-strings"
   ],
   "metadata": {
    "collapsed": false
   }
  },
  {
   "cell_type": "code",
   "execution_count": 104,
   "outputs": [
    {
     "name": "stdout",
     "output_type": "stream",
     "text": [
      "My name is John and I am 30 years oldpractice text files/\n"
     ]
    }
   ],
   "source": [
    "name = \"John\"\n",
    "age = 30\n",
    "print(f\"My name is {name} and I am {age} years oldpractice text files/\")"
   ],
   "metadata": {
    "collapsed": false,
    "ExecuteTime": {
     "end_time": "2025-05-07T18:19:28practice text files/448986900Z",
     "start_time": "2025-05-07T18:19:28practice text files/443986600Z"
    }
   }
  },
  {
   "cell_type": "code",
   "execution_count": 105,
   "outputs": [
    {
     "name": "stdout",
     "output_type": "stream",
     "text": [
      "My name is John and I am 50 years oldpractice text files/\n"
     ]
    }
   ],
   "source": [
    "name = \"John\"\n",
    "age = 50\n",
    "print(\"My name is {} and I am {} years oldpractice text files/\"practice text files/format(name, age))"
   ],
   "metadata": {
    "collapsed": false,
    "ExecuteTime": {
     "end_time": "2025-05-07T18:20:00practice text files/560284900Z",
     "start_time": "2025-05-07T18:20:00practice text files/515405400Z"
    }
   }
  },
  {
   "cell_type": "code",
   "execution_count": 106,
   "outputs": [
    {
     "name": "stdout",
     "output_type": "stream",
     "text": [
      "My name is Johnathan and I am 30 years oldpractice text files/\n"
     ]
    }
   ],
   "source": [
    "name = \"Johnathan\"\n",
    "age = 30\n",
    "print(\"My name is %s and I am %d years oldpractice text files/\" % (name, age))"
   ],
   "metadata": {
    "collapsed": false,
    "ExecuteTime": {
     "end_time": "2025-05-07T18:20:24practice text files/982919600Z",
     "start_time": "2025-05-07T18:20:24practice text files/959906900Z"
    }
   }
  },
  {
   "cell_type": "markdown",
   "source": [
    "### Tuples, Lists, and Dictionaries"
   ],
   "metadata": {
    "collapsed": false
   }
  },
  {
   "cell_type": "code",
   "execution_count": 114,
   "outputs": [],
   "source": [
    "# this is a tuple\n",
    "my_tuple = ('disco', 2, 3)"
   ],
   "metadata": {
    "collapsed": false,
    "ExecuteTime": {
     "end_time": "2025-05-07T18:32:13practice text files/738038800Z",
     "start_time": "2025-05-07T18:32:13practice text files/732040500Z"
    }
   }
  },
  {
   "cell_type": "code",
   "execution_count": 5,
   "outputs": [],
   "source": [
    "# this is a list\n",
    "my_list = [1, 2, 3]"
   ],
   "metadata": {
    "collapsed": false,
    "ExecuteTime": {
     "end_time": "2025-05-07T19:11:57practice text files/039871900Z",
     "start_time": "2025-05-07T19:11:57practice text files/032887400Z"
    }
   }
  },
  {
   "cell_type": "code",
   "execution_count": 111,
   "outputs": [],
   "source": [
    "# this is a dictionary\n",
    "my_dict = {'name': 'John', 'age': 30, 'city': 'New York'}"
   ],
   "metadata": {
    "collapsed": false,
    "ExecuteTime": {
     "end_time": "2025-05-07T18:30:21practice text files/726436400Z",
     "start_time": "2025-05-07T18:30:21practice text files/721435700Z"
    }
   }
  },
  {
   "cell_type": "code",
   "execution_count": 113,
   "outputs": [],
   "source": [
    "# tuples are immutable\n",
    "# my_tuple[0] = 10 # this will raise an error"
   ],
   "metadata": {
    "collapsed": false,
    "ExecuteTime": {
     "end_time": "2025-05-07T18:31:18practice text files/430675900Z",
     "start_time": "2025-05-07T18:31:18practice text files/430675900Z"
    }
   }
  },
  {
   "cell_type": "code",
   "execution_count": 115,
   "outputs": [
    {
     "data": {
      "text/plain": "('disco', 2)"
     },
     "execution_count": 115,
     "metadata": {},
     "output_type": "execute_result"
    }
   ],
   "source": [
    "my_tuple[0:2] # slicing a tuple"
   ],
   "metadata": {
    "collapsed": false,
    "ExecuteTime": {
     "end_time": "2025-05-07T18:32:29practice text files/099694300Z",
     "start_time": "2025-05-07T18:32:29practice text files/079633100Z"
    }
   }
  },
  {
   "cell_type": "code",
   "execution_count": 116,
   "outputs": [],
   "source": [
    "my_tuple_2 = my_tuple+('rock', 4, 5) # concatenating tuples"
   ],
   "metadata": {
    "collapsed": false,
    "ExecuteTime": {
     "end_time": "2025-05-07T18:36:52practice text files/667580200Z",
     "start_time": "2025-05-07T18:36:52practice text files/623210200Z"
    }
   }
  },
  {
   "cell_type": "code",
   "execution_count": 118,
   "outputs": [
    {
     "data": {
      "text/plain": "('disco', 2, 3, 'rock', 4, 5)"
     },
     "execution_count": 118,
     "metadata": {},
     "output_type": "execute_result"
    }
   ],
   "source": [
    "my_tuple_2"
   ],
   "metadata": {
    "collapsed": false,
    "ExecuteTime": {
     "end_time": "2025-05-07T18:37:02practice text files/266488700Z",
     "start_time": "2025-05-07T18:37:02practice text files/257470500Z"
    }
   }
  },
  {
   "cell_type": "code",
   "execution_count": 1,
   "outputs": [],
   "source": [
    "# nesting tuples\n",
    "my_tuple_3 = (0, 1, 2, (3, 4, 5))"
   ],
   "metadata": {
    "collapsed": false,
    "ExecuteTime": {
     "end_time": "2025-05-07T18:58:47practice text files/246713100Z",
     "start_time": "2025-05-07T18:58:47practice text files/237942Z"
    }
   }
  },
  {
   "cell_type": "code",
   "execution_count": 3,
   "outputs": [
    {
     "data": {
      "text/plain": "4"
     },
     "execution_count": 3,
     "metadata": {},
     "output_type": "execute_result"
    }
   ],
   "source": [
    "my_tuple_3[3][1] # accessing a nested tuple"
   ],
   "metadata": {
    "collapsed": false,
    "ExecuteTime": {
     "end_time": "2025-05-07T19:08:04practice text files/898958700Z",
     "start_time": "2025-05-07T19:08:04practice text files/892225700Z"
    }
   }
  },
  {
   "cell_type": "code",
   "execution_count": 7,
   "outputs": [
    {
     "data": {
      "text/plain": "[1, 2, 3, 'a', 'b', 'c']"
     },
     "execution_count": 7,
     "metadata": {},
     "output_type": "execute_result"
    }
   ],
   "source": [
    "my_listpractice text files/extend(['a', 'b', 'c']) # adding elements to a list\n",
    "my_list"
   ],
   "metadata": {
    "collapsed": false,
    "ExecuteTime": {
     "end_time": "2025-05-07T19:12:12practice text files/010223Z",
     "start_time": "2025-05-07T19:12:12practice text files/006918600Z"
    }
   }
  },
  {
   "cell_type": "code",
   "execution_count": 10,
   "outputs": [],
   "source": [
    "my_listpractice text files/append(['a', 'b', 'c']) # adding a nested element to a list"
   ],
   "metadata": {
    "collapsed": false,
    "ExecuteTime": {
     "end_time": "2025-05-07T19:12:50practice text files/663214700Z",
     "start_time": "2025-05-07T19:12:50practice text files/656213800Z"
    }
   }
  },
  {
   "cell_type": "code",
   "execution_count": 9,
   "outputs": [
    {
     "data": {
      "text/plain": "[1, 2, 3, 'a', 'b', 'c', ['a', 'b', 'c']]"
     },
     "execution_count": 9,
     "metadata": {},
     "output_type": "execute_result"
    }
   ],
   "source": [
    "my_list"
   ],
   "metadata": {
    "collapsed": false,
    "ExecuteTime": {
     "end_time": "2025-05-07T19:12:30practice text files/000352500Z",
     "start_time": "2025-05-07T19:12:29practice text files/995170300Z"
    }
   }
  },
  {
   "cell_type": "code",
   "execution_count": 15,
   "outputs": [],
   "source": [
    "#lists are mutable\n",
    "# my_list[0] = 10 # this will not raise an error\n",
    "my_list[0] = 10"
   ],
   "metadata": {
    "collapsed": false,
    "ExecuteTime": {
     "end_time": "2025-05-07T19:20:04practice text files/549479Z",
     "start_time": "2025-05-07T19:20:04practice text files/505922400Z"
    }
   }
  },
  {
   "cell_type": "code",
   "execution_count": 16,
   "outputs": [
    {
     "data": {
      "text/plain": "[10, 2, 3, 'a', 'b', 'c', ['a', 'b', 'c'], ['a', 'b', 'c']]"
     },
     "execution_count": 16,
     "metadata": {},
     "output_type": "execute_result"
    }
   ],
   "source": [
    "my_list"
   ],
   "metadata": {
    "collapsed": false,
    "ExecuteTime": {
     "end_time": "2025-05-07T19:20:09practice text files/806146900Z",
     "start_time": "2025-05-07T19:20:09practice text files/779656200Z"
    }
   }
  },
  {
   "cell_type": "code",
   "execution_count": 17,
   "outputs": [],
   "source": [
    "# list cloning\n",
    "my_list_2 = my_list[:]"
   ],
   "metadata": {
    "collapsed": false,
    "ExecuteTime": {
     "end_time": "2025-05-07T19:26:56practice text files/078654100Z",
     "start_time": "2025-05-07T19:26:56practice text files/038419600Z"
    }
   }
  },
  {
   "cell_type": "code",
   "execution_count": 18,
   "outputs": [
    {
     "data": {
      "text/plain": "[10, 2, 3, 'a', 'b', 'c', ['a', 'b', 'c'], ['a', 'b', 'c']]"
     },
     "execution_count": 18,
     "metadata": {},
     "output_type": "execute_result"
    }
   ],
   "source": [
    "my_list_2"
   ],
   "metadata": {
    "collapsed": false,
    "ExecuteTime": {
     "end_time": "2025-05-07T19:27:00practice text files/622115400Z",
     "start_time": "2025-05-07T19:27:00practice text files/598533700Z"
    }
   }
  },
  {
   "cell_type": "code",
   "execution_count": 19,
   "outputs": [
    {
     "data": {
      "text/plain": "[10, 3, 'a', 'b', 'c', ['a', 'b', 'c'], ['a', 'b', 'c']]"
     },
     "execution_count": 19,
     "metadata": {},
     "output_type": "execute_result"
    }
   ],
   "source": [
    "del(my_list[1]) # deleting an element from a list\n",
    "my_list"
   ],
   "metadata": {
    "collapsed": false,
    "ExecuteTime": {
     "end_time": "2025-05-07T19:27:38practice text files/844437200Z",
     "start_time": "2025-05-07T19:27:38practice text files/799772Z"
    }
   }
  },
  {
   "cell_type": "code",
   "execution_count": 20,
   "outputs": [
    {
     "data": {
      "text/plain": "[10, 2, 3, 'a', 'b', 'c', ['a', 'b', 'c'], ['a', 'b', 'c']]"
     },
     "execution_count": 20,
     "metadata": {},
     "output_type": "execute_result"
    }
   ],
   "source": [
    "my_list_2 # my_list_2 is not affected"
   ],
   "metadata": {
    "collapsed": false,
    "ExecuteTime": {
     "end_time": "2025-05-07T19:27:49practice text files/010412Z",
     "start_time": "2025-05-07T19:27:48practice text files/991438500Z"
    }
   }
  },
  {
   "cell_type": "code",
   "execution_count": 21,
   "outputs": [
    {
     "name": "stdout",
     "output_type": "stream",
     "text": [
      "Help on list object:\n",
      "\n",
      "class list(object)\n",
      " |  list(iterable=(), /)\n",
      " |  \n",
      " |  Built-in mutable sequencepractice text files/\n",
      " |  \n",
      " |  If no argument is given, the constructor creates a new empty listpractice text files/\n",
      " |  The argument must be an iterable if specifiedpractice text files/\n",
      " |  \n",
      " |  Methods defined here:\n",
      " |  \n",
      " |  __add__(self, value, /)\n",
      " |      Return self+valuepractice text files/\n",
      " |  \n",
      " |  __contains__(self, key, /)\n",
      " |      Return key in selfpractice text files/\n",
      " |  \n",
      " |  __delitem__(self, key, /)\n",
      " |      Delete self[key]practice text files/\n",
      " |  \n",
      " |  __eq__(self, value, /)\n",
      " |      Return self==valuepractice text files/\n",
      " |  \n",
      " |  __ge__(self, value, /)\n",
      " |      Return self>=valuepractice text files/\n",
      " |  \n",
      " |  __getattribute__(self, name, /)\n",
      " |      Return getattr(self, name)practice text files/\n",
      " |  \n",
      " |  __getitem__(practice text files/practice text files/practice text files/)\n",
      " |      xpractice text files/__getitem__(y) <==> x[y]\n",
      " |  \n",
      " |  __gt__(self, value, /)\n",
      " |      Return self>valuepractice text files/\n",
      " |  \n",
      " |  __iadd__(self, value, /)\n",
      " |      Implement self+=valuepractice text files/\n",
      " |  \n",
      " |  __imul__(self, value, /)\n",
      " |      Implement self*=valuepractice text files/\n",
      " |  \n",
      " |  __init__(self, /, *args, **kwargs)\n",
      " |      Initialize selfpractice text files/  See help(type(self)) for accurate signaturepractice text files/\n",
      " |  \n",
      " |  __iter__(self, /)\n",
      " |      Implement iter(self)practice text files/\n",
      " |  \n",
      " |  __le__(self, value, /)\n",
      " |      Return self<=valuepractice text files/\n",
      " |  \n",
      " |  __len__(self, /)\n",
      " |      Return len(self)practice text files/\n",
      " |  \n",
      " |  __lt__(self, value, /)\n",
      " |      Return self<valuepractice text files/\n",
      " |  \n",
      " |  __mul__(self, value, /)\n",
      " |      Return self*valuepractice text files/\n",
      " |  \n",
      " |  __ne__(self, value, /)\n",
      " |      Return self!=valuepractice text files/\n",
      " |  \n",
      " |  __repr__(self, /)\n",
      " |      Return repr(self)practice text files/\n",
      " |  \n",
      " |  __reversed__(self, /)\n",
      " |      Return a reverse iterator over the listpractice text files/\n",
      " |  \n",
      " |  __rmul__(self, value, /)\n",
      " |      Return value*selfpractice text files/\n",
      " |  \n",
      " |  __setitem__(self, key, value, /)\n",
      " |      Set self[key] to valuepractice text files/\n",
      " |  \n",
      " |  __sizeof__(self, /)\n",
      " |      Return the size of the list in memory, in bytespractice text files/\n",
      " |  \n",
      " |  append(self, object, /)\n",
      " |      Append object to the end of the listpractice text files/\n",
      " |  \n",
      " |  clear(self, /)\n",
      " |      Remove all items from listpractice text files/\n",
      " |  \n",
      " |  copy(self, /)\n",
      " |      Return a shallow copy of the listpractice text files/\n",
      " |  \n",
      " |  count(self, value, /)\n",
      " |      Return number of occurrences of valuepractice text files/\n",
      " |  \n",
      " |  extend(self, iterable, /)\n",
      " |      Extend list by appending elements from the iterablepractice text files/\n",
      " |  \n",
      " |  index(self, value, start=0, stop=9223372036854775807, /)\n",
      " |      Return first index of valuepractice text files/\n",
      " |      \n",
      " |      Raises ValueError if the value is not presentpractice text files/\n",
      " |  \n",
      " |  insert(self, index, object, /)\n",
      " |      Insert object before indexpractice text files/\n",
      " |  \n",
      " |  pop(self, index=-1, /)\n",
      " |      Remove and return item at index (default last)practice text files/\n",
      " |      \n",
      " |      Raises IndexError if list is empty or index is out of rangepractice text files/\n",
      " |  \n",
      " |  remove(self, value, /)\n",
      " |      Remove first occurrence of valuepractice text files/\n",
      " |      \n",
      " |      Raises ValueError if the value is not presentpractice text files/\n",
      " |  \n",
      " |  reverse(self, /)\n",
      " |      Reverse *IN PLACE*practice text files/\n",
      " |  \n",
      " |  sort(self, /, *, key=None, reverse=False)\n",
      " |      Sort the list in ascending order and return Nonepractice text files/\n",
      " |      \n",
      " |      The sort is in-place (ipractice text files/epractice text files/ the list itself is modified) and stable (ipractice text files/epractice text files/ the\n",
      " |      order of two equal elements is maintained)practice text files/\n",
      " |      \n",
      " |      If a key function is given, apply it once to each list item and sort them,\n",
      " |      ascending or descending, according to their function valuespractice text files/\n",
      " |      \n",
      " |      The reverse flag can be set to sort in descending orderpractice text files/\n",
      " |  \n",
      " |  ----------------------------------------------------------------------\n",
      " |  Class methods defined here:\n",
      " |  \n",
      " |  __class_getitem__(practice text files/practice text files/practice text files/) from builtinspractice text files/type\n",
      " |      See PEP 585\n",
      " |  \n",
      " |  ----------------------------------------------------------------------\n",
      " |  Static methods defined here:\n",
      " |  \n",
      " |  __new__(*args, **kwargs) from builtinspractice text files/type\n",
      " |      Create and return a new objectpractice text files/  See help(type) for accurate signaturepractice text files/\n",
      " |  \n",
      " |  ----------------------------------------------------------------------\n",
      " |  Data and other attributes defined here:\n",
      " |  \n",
      " |  __hash__ = None\n",
      "\n"
     ]
    }
   ],
   "source": [
    "help(my_list)"
   ],
   "metadata": {
    "collapsed": false,
    "ExecuteTime": {
     "end_time": "2025-05-07T19:28:24practice text files/751248700Z",
     "start_time": "2025-05-07T19:28:24practice text files/709451400Z"
    }
   }
  },
  {
   "cell_type": "markdown",
   "source": [
    "### dictionaries"
   ],
   "metadata": {
    "collapsed": false
   }
  },
  {
   "cell_type": "code",
   "execution_count": 31,
   "outputs": [
    {
     "data": {
      "text/plain": "{'name': 'John', 'city': 'New York', 'address': '123 Main St'}"
     },
     "execution_count": 31,
     "metadata": {},
     "output_type": "execute_result"
    }
   ],
   "source": [
    "my_dict"
   ],
   "metadata": {
    "collapsed": false,
    "ExecuteTime": {
     "end_time": "2025-05-07T19:34:25practice text files/029813700Z",
     "start_time": "2025-05-07T19:34:25practice text files/019837600Z"
    }
   }
  },
  {
   "cell_type": "code",
   "execution_count": 23,
   "outputs": [
    {
     "data": {
      "text/plain": "'John'"
     },
     "execution_count": 23,
     "metadata": {},
     "output_type": "execute_result"
    }
   ],
   "source": [
    "my_dict['name'] # accessing a dictionary element"
   ],
   "metadata": {
    "collapsed": false,
    "ExecuteTime": {
     "end_time": "2025-05-07T19:31:16practice text files/857159800Z",
     "start_time": "2025-05-07T19:31:16practice text files/837992900Z"
    }
   }
  },
  {
   "cell_type": "code",
   "execution_count": 24,
   "outputs": [],
   "source": [
    "my_dict['address'] = '123 Main St' # adding a new element to a dictionary"
   ],
   "metadata": {
    "collapsed": false,
    "ExecuteTime": {
     "end_time": "2025-05-07T19:31:19practice text files/316337600Z",
     "start_time": "2025-05-07T19:31:19practice text files/288319300Z"
    }
   }
  },
  {
   "cell_type": "code",
   "execution_count": 25,
   "outputs": [],
   "source": [
    "my_dict['age'] = 31 # updating an element in a dictionary"
   ],
   "metadata": {
    "collapsed": false,
    "ExecuteTime": {
     "end_time": "2025-05-07T19:31:26practice text files/644808300Z",
     "start_time": "2025-05-07T19:31:26practice text files/637792900Z"
    }
   }
  },
  {
   "cell_type": "code",
   "execution_count": 26,
   "outputs": [],
   "source": [
    "del(my_dict['age']) # deleting an element from a dictionary"
   ],
   "metadata": {
    "collapsed": false,
    "ExecuteTime": {
     "end_time": "2025-05-07T19:31:27practice text files/841400700Z",
     "start_time": "2025-05-07T19:31:27practice text files/806702500Z"
    }
   }
  },
  {
   "cell_type": "code",
   "execution_count": 27,
   "outputs": [
    {
     "data": {
      "text/plain": "dict_keys(['name', 'city', 'address'])"
     },
     "execution_count": 27,
     "metadata": {},
     "output_type": "execute_result"
    }
   ],
   "source": [
    "my_dictpractice text files/keys() # getting the keys of a dictionary"
   ],
   "metadata": {
    "collapsed": false,
    "ExecuteTime": {
     "end_time": "2025-05-07T19:31:55practice text files/274328900Z",
     "start_time": "2025-05-07T19:31:55practice text files/218963900Z"
    }
   }
  },
  {
   "cell_type": "code",
   "execution_count": 28,
   "outputs": [
    {
     "data": {
      "text/plain": "dict_values(['John', 'New York', '123 Main St'])"
     },
     "execution_count": 28,
     "metadata": {},
     "output_type": "execute_result"
    }
   ],
   "source": [
    "my_dictpractice text files/values() # getting the values of a dictionary"
   ],
   "metadata": {
    "collapsed": false,
    "ExecuteTime": {
     "end_time": "2025-05-07T19:31:59practice text files/380766900Z",
     "start_time": "2025-05-07T19:31:59practice text files/339801200Z"
    }
   }
  },
  {
   "cell_type": "code",
   "execution_count": 30,
   "outputs": [
    {
     "data": {
      "text/plain": "dict_items([('name', 'John'), ('city', 'New York'), ('address', '123 Main St')])"
     },
     "execution_count": 30,
     "metadata": {},
     "output_type": "execute_result"
    }
   ],
   "source": [
    "my_dictpractice text files/items() # getting the items of a dictionary - ipractice text files/epractice text files/ the key-value pairs"
   ],
   "metadata": {
    "collapsed": false,
    "ExecuteTime": {
     "end_time": "2025-05-07T19:32:49practice text files/815821600Z",
     "start_time": "2025-05-07T19:32:49practice text files/806423100Z"
    }
   }
  },
  {
   "cell_type": "markdown",
   "source": [
    "## Conditional Statements"
   ],
   "metadata": {
    "collapsed": false
   }
  },
  {
   "cell_type": "code",
   "execution_count": 32,
   "outputs": [
    {
     "name": "stdout",
     "output_type": "stream",
     "text": [
      "x is positive\n"
     ]
    }
   ],
   "source": [
    "x = 10\n",
    "if x > 0:\n",
    "    print(\"x is positive\")\n",
    "elif x < 0:\n",
    "    print(\"x is negative\")\n",
    "else:\n",
    "    print(\"x is zero\")"
   ],
   "metadata": {
    "collapsed": false,
    "ExecuteTime": {
     "end_time": "2025-05-07T19:49:58practice text files/656370800Z",
     "start_time": "2025-05-07T19:49:58practice text files/647871100Z"
    }
   }
  },
  {
   "cell_type": "markdown",
   "source": [
    "## Logical Operators"
   ],
   "metadata": {
    "collapsed": false
   }
  },
  {
   "cell_type": "code",
   "execution_count": null,
   "outputs": [],
   "source": [
    "x = 10\n",
    "y = 20\n",
    "if x > 0 and y > 0:\n",
    "    print(\"x and y are positive\")\n",
    "elif x > 0 or y > 0:\n",
    "    print(\"x or y is positive\")\n",
    "else:\n",
    "    print(\"x and y are not positive\")"
   ],
   "metadata": {
    "collapsed": false
   }
  },
  {
   "cell_type": "code",
   "execution_count": 34,
   "outputs": [
    {
     "data": {
      "text/plain": "False"
     },
     "execution_count": 34,
     "metadata": {},
     "output_type": "execute_result"
    }
   ],
   "source": [
    "not(True) #negation"
   ],
   "metadata": {
    "collapsed": false,
    "ExecuteTime": {
     "end_time": "2025-05-07T19:51:29practice text files/626566Z",
     "start_time": "2025-05-07T19:51:29practice text files/600740400Z"
    }
   }
  },
  {
   "cell_type": "code",
   "execution_count": 35,
   "outputs": [
    {
     "data": {
      "text/plain": "True"
     },
     "execution_count": 35,
     "metadata": {},
     "output_type": "execute_result"
    }
   ],
   "source": [
    "not(x<0) #should be True"
   ],
   "metadata": {
    "collapsed": false,
    "ExecuteTime": {
     "end_time": "2025-05-07T19:51:52practice text files/039112300Z",
     "start_time": "2025-05-07T19:51:51practice text files/984805200Z"
    }
   }
  },
  {
   "cell_type": "code",
   "execution_count": 39,
   "outputs": [
    {
     "data": {
      "text/plain": "False"
     },
     "execution_count": 39,
     "metadata": {},
     "output_type": "execute_result"
    }
   ],
   "source": [
    "not(x>0) #should be False"
   ],
   "metadata": {
    "collapsed": false,
    "ExecuteTime": {
     "end_time": "2025-05-07T19:55:11practice text files/880896100Z",
     "start_time": "2025-05-07T19:55:11practice text files/870377700Z"
    }
   }
  },
  {
   "cell_type": "code",
   "execution_count": 42,
   "outputs": [
    {
     "data": {
      "text/plain": "range(0, 10)"
     },
     "execution_count": 42,
     "metadata": {},
     "output_type": "execute_result"
    }
   ],
   "source": [
    "range(10) #returns a range of numbers from 0 to 9"
   ],
   "metadata": {
    "collapsed": false,
    "ExecuteTime": {
     "end_time": "2025-05-07T19:57:57practice text files/820660100Z",
     "start_time": "2025-05-07T19:57:57practice text files/776294400Z"
    }
   }
  },
  {
   "cell_type": "code",
   "execution_count": 43,
   "outputs": [
    {
     "data": {
      "text/plain": "range(1, 10)"
     },
     "execution_count": 43,
     "metadata": {},
     "output_type": "execute_result"
    }
   ],
   "source": [
    "range(1, 10) #returns a range of numbers from 1 to 9"
   ],
   "metadata": {
    "collapsed": false,
    "ExecuteTime": {
     "end_time": "2025-05-07T19:58:11practice text files/752933200Z",
     "start_time": "2025-05-07T19:58:11practice text files/708387200Z"
    }
   }
  },
  {
   "cell_type": "code",
   "execution_count": 44,
   "outputs": [
    {
     "data": {
      "text/plain": "[0, 1, 2, 3, 4, 5, 6, 7, 8, 9]"
     },
     "execution_count": 44,
     "metadata": {},
     "output_type": "execute_result"
    }
   ],
   "source": [
    "my_list_3 = list(range(10))\n",
    "my_list_3"
   ],
   "metadata": {
    "collapsed": false,
    "ExecuteTime": {
     "end_time": "2025-05-07T19:59:33practice text files/540604200Z",
     "start_time": "2025-05-07T19:59:33practice text files/501035500Z"
    }
   }
  },
  {
   "cell_type": "code",
   "execution_count": 46,
   "outputs": [
    {
     "name": "stdout",
     "output_type": "stream",
     "text": [
      "0\n",
      "1\n",
      "2\n",
      "3\n",
      "4\n"
     ]
    }
   ],
   "source": [
    "# Example of range with a single argument\n",
    "for i in range(5):\n",
    "    print(i)  # Output: 0, 1, 2, 3, 4"
   ],
   "metadata": {
    "collapsed": false,
    "ExecuteTime": {
     "end_time": "2025-05-07T20:02:36practice text files/294669900Z",
     "start_time": "2025-05-07T20:02:36practice text files/286671900Z"
    }
   }
  },
  {
   "cell_type": "code",
   "execution_count": 47,
   "outputs": [
    {
     "name": "stdout",
     "output_type": "stream",
     "text": [
      "1\n",
      "2\n",
      "3\n",
      "4\n",
      "5\n"
     ]
    }
   ],
   "source": [
    "# Example of range with start and stop arguments\n",
    "for i in range(1, 6):\n",
    "    print(i)  # Output: 1, 2, 3, 4, 5"
   ],
   "metadata": {
    "collapsed": false,
    "ExecuteTime": {
     "end_time": "2025-05-07T20:02:37practice text files/757466100Z",
     "start_time": "2025-05-07T20:02:37practice text files/730262600Z"
    }
   }
  },
  {
   "cell_type": "code",
   "execution_count": 48,
   "outputs": [
    {
     "name": "stdout",
     "output_type": "stream",
     "text": [
      "0\n",
      "2\n",
      "4\n",
      "6\n",
      "8\n"
     ]
    }
   ],
   "source": [
    "# Example of range with start, stop, and step arguments\n",
    "for i in range(0, 10, 2):\n",
    "    print(i)  # Output: 0, 2, 4, 6, 8"
   ],
   "metadata": {
    "collapsed": false,
    "ExecuteTime": {
     "end_time": "2025-05-07T20:02:38practice text files/566307Z",
     "start_time": "2025-05-07T20:02:38practice text files/557804600Z"
    }
   }
  },
  {
   "cell_type": "code",
   "execution_count": 49,
   "outputs": [
    {
     "name": "stdout",
     "output_type": "stream",
     "text": [
      "5\n",
      "4\n",
      "3\n",
      "2\n",
      "1\n"
     ]
    }
   ],
   "source": [
    "# Example of range with a negative step\n",
    "for i in range(5, 0, -1):\n",
    "    print(i)  # Output: 5, 4, 3, 2, 1"
   ],
   "metadata": {
    "collapsed": false,
    "ExecuteTime": {
     "end_time": "2025-05-07T20:02:39practice text files/146148100Z",
     "start_time": "2025-05-07T20:02:39practice text files/123740300Z"
    }
   }
  },
  {
   "cell_type": "markdown",
   "source": [
    "### for loop"
   ],
   "metadata": {
    "collapsed": false
   }
  },
  {
   "cell_type": "code",
   "execution_count": 50,
   "outputs": [],
   "source": [
    "# there are two ways to loop through a list with a for loop:\n",
    "squares = ['red', 'green', 'blue']\n",
    "for i in range(len(squares)): # or for i in range(3):\n",
    "    squares[i] = 'white'\n"
   ],
   "metadata": {
    "collapsed": false,
    "ExecuteTime": {
     "end_time": "2025-05-07T21:50:45practice text files/622858500Z",
     "start_time": "2025-05-07T21:50:45practice text files/576436500Z"
    }
   }
  },
  {
   "cell_type": "code",
   "execution_count": 51,
   "outputs": [
    {
     "data": {
      "text/plain": "['white', 'white', 'white']"
     },
     "execution_count": 51,
     "metadata": {},
     "output_type": "execute_result"
    }
   ],
   "source": [
    "squares"
   ],
   "metadata": {
    "collapsed": false,
    "ExecuteTime": {
     "end_time": "2025-05-07T21:50:51practice text files/470692800Z",
     "start_time": "2025-05-07T21:50:51practice text files/422156100Z"
    }
   }
  },
  {
   "cell_type": "code",
   "execution_count": 61,
   "outputs": [
    {
     "name": "stdout",
     "output_type": "stream",
     "text": [
      "red\n",
      "green\n",
      "blue\n"
     ]
    }
   ],
   "source": [
    "# another way to loop through a list with a for loop:\n",
    "squares = ['red', 'green', 'blue']\n",
    "for square in squares:\n",
    "    print(square)"
   ],
   "metadata": {
    "collapsed": false,
    "ExecuteTime": {
     "end_time": "2025-05-07T21:54:36practice text files/909720200Z",
     "start_time": "2025-05-07T21:54:36practice text files/897243200Z"
    }
   }
  },
  {
   "cell_type": "code",
   "execution_count": 62,
   "outputs": [
    {
     "name": "stdout",
     "output_type": "stream",
     "text": [
      "0 red\n",
      "1 green\n",
      "2 blue\n"
     ]
    }
   ],
   "source": [
    "#the function of enumerate is to loop through a list and return the index and value of each element\n",
    "squares = ['red', 'green', 'blue']\n",
    "for i, square in enumerate(squares):\n",
    "    print(i, square)"
   ],
   "metadata": {
    "collapsed": false,
    "ExecuteTime": {
     "end_time": "2025-05-07T22:01:48practice text files/143918400Z",
     "start_time": "2025-05-07T22:01:48practice text files/099262300Z"
    }
   }
  },
  {
   "cell_type": "code",
   "execution_count": 66,
   "outputs": [
    {
     "data": {
      "text/plain": "[(0, 'red'), (1, 'green'), (2, 'blue')]"
     },
     "execution_count": 66,
     "metadata": {},
     "output_type": "execute_result"
    }
   ],
   "source": [
    "#enumerate(squares) is an iterator that returns a tuple of the index and value of each element in a list\n",
    "contents = list(enumerate(squares))\n",
    "contents"
   ],
   "metadata": {
    "collapsed": false,
    "ExecuteTime": {
     "end_time": "2025-05-07T22:04:24practice text files/138695700Z",
     "start_time": "2025-05-07T22:04:24practice text files/124603500Z"
    }
   }
  },
  {
   "cell_type": "markdown",
   "source": [
    "## while loops"
   ],
   "metadata": {
    "collapsed": false
   }
  },
  {
   "cell_type": "code",
   "execution_count": 67,
   "outputs": [
    {
     "data": {
      "text/plain": "['orange', 'orange']"
     },
     "execution_count": 67,
     "metadata": {},
     "output_type": "execute_result"
    }
   ],
   "source": [
    "# there are two ways to loop through a list with a while loop:\n",
    "squares = ['orange', 'orange', 'red', 'orange', 'black']\n",
    "new_squares = []\n",
    "i = 0\n",
    "while squares[i] == 'orange':\n",
    "    new_squarespractice text files/append(squares[i])\n",
    "    i = i + 1\n",
    "new_squares"
   ],
   "metadata": {
    "collapsed": false,
    "ExecuteTime": {
     "end_time": "2025-05-07T22:18:01practice text files/485986400Z",
     "start_time": "2025-05-07T22:18:01practice text files/473558700Z"
    }
   }
  },
  {
   "cell_type": "code",
   "execution_count": 69,
   "outputs": [
    {
     "data": {
      "text/plain": "['orange', 'orange', 'red', 'orange', 'black']"
     },
     "execution_count": 69,
     "metadata": {},
     "output_type": "execute_result"
    }
   ],
   "source": [
    "#another way to loop through a list with a while loop:\n",
    "squares = ['orange', 'orange', 'red', 'orange', 'black']\n",
    "new_squares = []\n",
    "i = 0\n",
    "while i < len(squares):\n",
    "    new_squarespractice text files/append(squares[i])\n",
    "    i = i + 1\n",
    "new_squares"
   ],
   "metadata": {
    "collapsed": false,
    "ExecuteTime": {
     "end_time": "2025-05-07T22:18:43practice text files/536474900Z",
     "start_time": "2025-05-07T22:18:43practice text files/510751800Z"
    }
   }
  },
  {
   "cell_type": "code",
   "execution_count": 71,
   "outputs": [
    {
     "data": {
      "text/plain": "{0: 'orange', 1: 'orange', 2: 'red', 3: 'orange', 4: 'black'}"
     },
     "execution_count": 71,
     "metadata": {},
     "output_type": "execute_result"
    }
   ],
   "source": [
    "i = 0\n",
    "new_dict = {}\n",
    "while i < len(squares):\n",
    "    new_dict[i] = squares[i]\n",
    "    i = i + 1\n",
    "new_dict"
   ],
   "metadata": {
    "collapsed": false,
    "ExecuteTime": {
     "end_time": "2025-05-07T22:20:25practice text files/353997500Z",
     "start_time": "2025-05-07T22:20:25practice text files/344015100Z"
    }
   }
  },
  {
   "cell_type": "code",
   "execution_count": null,
   "outputs": [],
   "source": [],
   "metadata": {
    "collapsed": false
   }
  }
 ],
 "metadata": {
  "kernelspec": {
   "display_name": "Python 3",
   "language": "python",
   "name": "python3"
  },
  "language_info": {
   "codemirror_mode": {
    "name": "ipython",
    "version": 3
   },
   "file_extension": "practice text files/py",
   "mimetype": "text/x-python",
   "name": "python",
   "nbconvert_exporter": "python",
   "pygments_lexer": "ipython3",
   "version": "3practice text files/11practice text files/5"
  },
  "orig_nbformat": 4
 },
 "nbformat": 4,
 "nbformat_minor": 2
}
