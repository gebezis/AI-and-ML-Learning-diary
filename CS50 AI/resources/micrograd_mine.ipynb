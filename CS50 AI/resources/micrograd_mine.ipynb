{
 "cells": [
  {
   "cell_type": "code",
   "execution_count": 1,
   "metadata": {
    "collapsed": true,
    "ExecuteTime": {
     "end_time": "2025-07-24T19:42:26.997941500Z",
     "start_time": "2025-07-24T19:42:25.185341100Z"
    }
   },
   "outputs": [],
   "source": [
    "import math\n",
    "import numpy as np\n",
    "import matplotlib as mpl\n",
    "%matplotlib inline"
   ]
  },
  {
   "cell_type": "code",
   "execution_count": 132,
   "outputs": [],
   "source": [
    "class Value:\n",
    "\n",
    "    def __init__(self, data, _children=(), _op='', _label=''):\n",
    "        self.data = data\n",
    "        self.grad = 0.0\n",
    "        self._prev = set(_children)\n",
    "        self._op = _op\n",
    "        self._label = _label\n",
    "\n",
    "    def __repr__(self):\n",
    "        return f\"Value(data={self.data})\"\n",
    "\n",
    "    def __add__(self, other):\n",
    "        out = Value(self.data + other.data, (self, other), '+')\n",
    "        return out\n",
    "       # return Value(self.data + other.data)\n",
    "\n",
    "    def __mul__(self, other):\n",
    "        other = other if isinstance(other, Value) else Value(other)\n",
    "        out = Value(self.data * other.data, (self, other), '*')\n",
    "        return out\n",
    "\n",
    "    def __rmul__(self, other):\n",
    "        return self * other\n",
    "\n",
    "    def tanh(self):\n",
    "        x = self.data\n",
    "        t = (math.exp(2*x) - 1) / (math.exp(2*x) + 1)\n",
    "        out = Value(t, (self,), 'tanh')\n",
    "        def _backward():\n",
    "            self.grad += (1 - t*t) * out.grad\n",
    "        out._backward = _backward\n",
    "        return out\n"
   ],
   "metadata": {
    "collapsed": false,
    "ExecuteTime": {
     "end_time": "2025-07-19T20:51:02.917506500Z",
     "start_time": "2025-07-19T20:51:02.909505200Z"
    }
   }
  },
  {
   "cell_type": "code",
   "execution_count": 109,
   "outputs": [],
   "source": [
    "a = Value(2.0, _label='a')\n",
    "b = Value(-3.0, _label='b')\n",
    "c = Value(10.0, _label='c')\n",
    "d = a * b\n",
    "d._label = 'd'\n",
    "e = d + c\n",
    "e._label = 'e'\n",
    "f = Value(-2.0, _label='f')\n",
    "L = e * f\n",
    "L._label = 'L'"
   ],
   "metadata": {
    "collapsed": false,
    "ExecuteTime": {
     "end_time": "2025-07-19T17:06:53.346022400Z",
     "start_time": "2025-07-19T17:06:53.329913100Z"
    }
   }
  },
  {
   "cell_type": "code",
   "execution_count": 83,
   "outputs": [
    {
     "data": {
      "text/plain": "{Value(data=-2.0), Value(data=16.0)}"
     },
     "execution_count": 83,
     "metadata": {},
     "output_type": "execute_result"
    }
   ],
   "source": [
    "L._prev"
   ],
   "metadata": {
    "collapsed": false,
    "ExecuteTime": {
     "end_time": "2025-07-19T16:38:08.957709900Z",
     "start_time": "2025-07-19T16:38:08.950360200Z"
    }
   }
  },
  {
   "cell_type": "code",
   "execution_count": 84,
   "outputs": [
    {
     "data": {
      "text/plain": "'*'"
     },
     "execution_count": 84,
     "metadata": {},
     "output_type": "execute_result"
    }
   ],
   "source": [
    "L._op"
   ],
   "metadata": {
    "collapsed": false,
    "ExecuteTime": {
     "end_time": "2025-07-19T16:38:15.441815Z",
     "start_time": "2025-07-19T16:38:15.435438600Z"
    }
   }
  },
  {
   "cell_type": "code",
   "execution_count": 89,
   "outputs": [],
   "source": [
    "from graphviz import Digraph\n",
    "\n",
    "def trace(root):\n",
    "    nodes, edges = set(), set()\n",
    "    def build(v):\n",
    "        if v not in nodes:\n",
    "            nodes.add(v)\n",
    "            for child in v._prev:\n",
    "                edges.add((child, v))\n",
    "                build(child)\n",
    "    build(root)\n",
    "    return nodes, edges\n",
    "\n",
    "def draw_dot(root):\n",
    "    dot = Digraph(format='svg', graph_attr={'rankdir': 'LR'})\n",
    "    nodes, edges = trace(root)\n",
    "    for n in nodes:\n",
    "        uid = str(id(n))\n",
    "        dot.node(name=uid, label=\"{ %s | data %.2f | grad %.2f} \" % (n._label, n.data, n.grad), shape='record')\n",
    "        if n._op:\n",
    "            dot.node(name=uid + n._op, label=n._op)\n",
    "            dot.edge(uid + n._op, uid)\n",
    "    for n1, n2 in edges:\n",
    "        dot.edge(str(id(n1)), str(id(n2)) + n2._op)\n",
    "    return dot"
   ],
   "metadata": {
    "collapsed": false,
    "ExecuteTime": {
     "end_time": "2025-07-19T16:41:26.142522200Z",
     "start_time": "2025-07-19T16:41:26.138237800Z"
    }
   }
  },
  {
   "cell_type": "code",
   "execution_count": 50,
   "outputs": [
    {
     "data": {
      "text/plain": "2224070618704"
     },
     "execution_count": 50,
     "metadata": {},
     "output_type": "execute_result"
    }
   ],
   "source": [
    "id(e)"
   ],
   "metadata": {
    "collapsed": false,
    "ExecuteTime": {
     "end_time": "2025-07-19T15:29:56.785461600Z",
     "start_time": "2025-07-19T15:29:56.771932600Z"
    }
   }
  },
  {
   "cell_type": "code",
   "execution_count": 111,
   "outputs": [
    {
     "data": {
      "image/svg+xml": "<?xml version=\"1.0\" encoding=\"UTF-8\" standalone=\"no\"?>\n<!DOCTYPE svg PUBLIC \"-//W3C//DTD SVG 1.1//EN\"\n \"http://www.w3.org/Graphics/SVG/1.1/DTD/svg11.dtd\">\n<!-- Generated by graphviz version 13.1.0 (20250701.0955)\n -->\n<!-- Pages: 1 -->\n<svg width=\"1042pt\" height=\"156pt\"\n viewBox=\"0.00 0.00 1042.00 156.00\" xmlns=\"http://www.w3.org/2000/svg\" xmlns:xlink=\"http://www.w3.org/1999/xlink\">\n<g id=\"graph0\" class=\"graph\" transform=\"scale(1 1) rotate(0) translate(4 152)\">\n<polygon fill=\"white\" stroke=\"none\" points=\"-4,4 -4,-152 1038.25,-152 1038.25,4 -4,4\"/>\n<!-- 2224071251600 -->\n<g id=\"node1\" class=\"node\">\n<title>2224071251600</title>\n<polygon fill=\"none\" stroke=\"black\" points=\"0,-111.5 0,-147.5 165.75,-147.5 165.75,-111.5 0,-111.5\"/>\n<text xml:space=\"preserve\" text-anchor=\"middle\" x=\"11.38\" y=\"-124.7\" font-family=\"Times New Roman,serif\" font-size=\"14.00\">b</text>\n<polyline fill=\"none\" stroke=\"black\" points=\"22.75,-112 22.75,-147.5\"/>\n<text xml:space=\"preserve\" text-anchor=\"middle\" x=\"58.12\" y=\"-124.7\" font-family=\"Times New Roman,serif\" font-size=\"14.00\">data &#45;3.00</text>\n<polyline fill=\"none\" stroke=\"black\" points=\"93.5,-112 93.5,-147.5\"/>\n<text xml:space=\"preserve\" text-anchor=\"middle\" x=\"129.62\" y=\"-124.7\" font-family=\"Times New Roman,serif\" font-size=\"14.00\">grad &#45;4.00</text>\n</g>\n<!-- 2224071435216* -->\n<g id=\"node10\" class=\"node\">\n<title>2224071435216*</title>\n<ellipse fill=\"none\" stroke=\"black\" cx=\"228.75\" cy=\"-101.5\" rx=\"27\" ry=\"18\"/>\n<text xml:space=\"preserve\" text-anchor=\"middle\" x=\"228.75\" y=\"-96.45\" font-family=\"Times New Roman,serif\" font-size=\"14.00\">*</text>\n</g>\n<!-- 2224071251600&#45;&gt;2224071435216* -->\n<g id=\"edge4\" class=\"edge\">\n<title>2224071251600&#45;&gt;2224071435216*</title>\n<path fill=\"none\" stroke=\"black\" d=\"M165.9,-113.54C174.7,-111.82 183.29,-110.15 191.14,-108.62\"/>\n<polygon fill=\"black\" stroke=\"black\" points=\"191.78,-112.07 200.93,-106.72 190.44,-105.2 191.78,-112.07\"/>\n</g>\n<!-- 2224071788176 -->\n<g id=\"node2\" class=\"node\">\n<title>2224071788176</title>\n<polygon fill=\"none\" stroke=\"black\" points=\"585.75,-0.5 585.75,-36.5 744.75,-36.5 744.75,-0.5 585.75,-0.5\"/>\n<text xml:space=\"preserve\" text-anchor=\"middle\" x=\"596\" y=\"-13.7\" font-family=\"Times New Roman,serif\" font-size=\"14.00\">f</text>\n<polyline fill=\"none\" stroke=\"black\" points=\"606.25,-1 606.25,-36.5\"/>\n<text xml:space=\"preserve\" text-anchor=\"middle\" x=\"641.62\" y=\"-13.7\" font-family=\"Times New Roman,serif\" font-size=\"14.00\">data &#45;2.00</text>\n<polyline fill=\"none\" stroke=\"black\" points=\"677,-1 677,-36.5\"/>\n<text xml:space=\"preserve\" text-anchor=\"middle\" x=\"710.88\" y=\"-13.7\" font-family=\"Times New Roman,serif\" font-size=\"14.00\">grad 4.00</text>\n</g>\n<!-- 2224071789008* -->\n<g id=\"node6\" class=\"node\">\n<title>2224071789008*</title>\n<ellipse fill=\"none\" stroke=\"black\" cx=\"808.5\" cy=\"-45.5\" rx=\"27\" ry=\"18\"/>\n<text xml:space=\"preserve\" text-anchor=\"middle\" x=\"808.5\" y=\"-40.45\" font-family=\"Times New Roman,serif\" font-size=\"14.00\">*</text>\n</g>\n<!-- 2224071788176&#45;&gt;2224071789008* -->\n<g id=\"edge9\" class=\"edge\">\n<title>2224071788176&#45;&gt;2224071789008*</title>\n<path fill=\"none\" stroke=\"black\" d=\"M745.13,-33.58C754.14,-35.3 762.96,-36.99 771,-38.52\"/>\n<polygon fill=\"black\" stroke=\"black\" points=\"770.19,-41.93 780.67,-40.37 771.5,-35.06 770.19,-41.93\"/>\n</g>\n<!-- 2224071848144 -->\n<g id=\"node3\" class=\"node\">\n<title>2224071848144</title>\n<polygon fill=\"none\" stroke=\"black\" points=\"4.88,-56.5 4.88,-92.5 160.88,-92.5 160.88,-56.5 4.88,-56.5\"/>\n<text xml:space=\"preserve\" text-anchor=\"middle\" x=\"15.88\" y=\"-69.7\" font-family=\"Times New Roman,serif\" font-size=\"14.00\">a</text>\n<polyline fill=\"none\" stroke=\"black\" points=\"26.88,-57 26.88,-92.5\"/>\n<text xml:space=\"preserve\" text-anchor=\"middle\" x=\"60\" y=\"-69.7\" font-family=\"Times New Roman,serif\" font-size=\"14.00\">data 2.00</text>\n<polyline fill=\"none\" stroke=\"black\" points=\"93.12,-57 93.12,-92.5\"/>\n<text xml:space=\"preserve\" text-anchor=\"middle\" x=\"127\" y=\"-69.7\" font-family=\"Times New Roman,serif\" font-size=\"14.00\">grad 6.00</text>\n</g>\n<!-- 2224071848144&#45;&gt;2224071435216* -->\n<g id=\"edge6\" class=\"edge\">\n<title>2224071848144&#45;&gt;2224071435216*</title>\n<path fill=\"none\" stroke=\"black\" d=\"M161.29,-89.03C171.76,-90.99 182.08,-92.93 191.35,-94.67\"/>\n<polygon fill=\"black\" stroke=\"black\" points=\"190.5,-98.07 200.97,-96.48 191.79,-91.19 190.5,-98.07\"/>\n</g>\n<!-- 2224071798608 -->\n<g id=\"node4\" class=\"node\">\n<title>2224071798608</title>\n<polygon fill=\"none\" stroke=\"black\" points=\"291.75,-28.5 291.75,-64.5 459,-64.5 459,-28.5 291.75,-28.5\"/>\n<text xml:space=\"preserve\" text-anchor=\"middle\" x=\"302.75\" y=\"-41.7\" font-family=\"Times New Roman,serif\" font-size=\"14.00\">c</text>\n<polyline fill=\"none\" stroke=\"black\" points=\"313.75,-29 313.75,-64.5\"/>\n<text xml:space=\"preserve\" text-anchor=\"middle\" x=\"350.25\" y=\"-41.7\" font-family=\"Times New Roman,serif\" font-size=\"14.00\">data 10.00</text>\n<polyline fill=\"none\" stroke=\"black\" points=\"386.75,-29 386.75,-64.5\"/>\n<text xml:space=\"preserve\" text-anchor=\"middle\" x=\"422.88\" y=\"-41.7\" font-family=\"Times New Roman,serif\" font-size=\"14.00\">grad &#45;2.00</text>\n</g>\n<!-- 2224071797648+ -->\n<g id=\"node8\" class=\"node\">\n<title>2224071797648+</title>\n<ellipse fill=\"none\" stroke=\"black\" cx=\"522\" cy=\"-73.5\" rx=\"27\" ry=\"18\"/>\n<text xml:space=\"preserve\" text-anchor=\"middle\" x=\"522\" y=\"-68.45\" font-family=\"Times New Roman,serif\" font-size=\"14.00\">+</text>\n</g>\n<!-- 2224071798608&#45;&gt;2224071797648+ -->\n<g id=\"edge8\" class=\"edge\">\n<title>2224071798608&#45;&gt;2224071797648+</title>\n<path fill=\"none\" stroke=\"black\" d=\"M459.25,-61.97C468.05,-63.61 476.64,-65.22 484.47,-66.68\"/>\n<polygon fill=\"black\" stroke=\"black\" points=\"483.76,-70.11 494.24,-68.5 485.05,-63.23 483.76,-70.11\"/>\n</g>\n<!-- 2224071789008 -->\n<g id=\"node5\" class=\"node\">\n<title>2224071789008</title>\n<polygon fill=\"none\" stroke=\"black\" points=\"871.5,-27.5 871.5,-63.5 1034.25,-63.5 1034.25,-27.5 871.5,-27.5\"/>\n<text xml:space=\"preserve\" text-anchor=\"middle\" x=\"883.62\" y=\"-40.7\" font-family=\"Times New Roman,serif\" font-size=\"14.00\">L</text>\n<polyline fill=\"none\" stroke=\"black\" points=\"895.75,-28 895.75,-63.5\"/>\n<text xml:space=\"preserve\" text-anchor=\"middle\" x=\"931.12\" y=\"-40.7\" font-family=\"Times New Roman,serif\" font-size=\"14.00\">data &#45;8.00</text>\n<polyline fill=\"none\" stroke=\"black\" points=\"966.5,-28 966.5,-63.5\"/>\n<text xml:space=\"preserve\" text-anchor=\"middle\" x=\"1000.38\" y=\"-40.7\" font-family=\"Times New Roman,serif\" font-size=\"14.00\">grad 0.00</text>\n</g>\n<!-- 2224071789008*&#45;&gt;2224071789008 -->\n<g id=\"edge1\" class=\"edge\">\n<title>2224071789008*&#45;&gt;2224071789008</title>\n<path fill=\"none\" stroke=\"black\" d=\"M835.95,-45.5C843.05,-45.5 851.15,-45.5 859.69,-45.5\"/>\n<polygon fill=\"black\" stroke=\"black\" points=\"859.62,-49 869.62,-45.5 859.62,-42 859.62,-49\"/>\n</g>\n<!-- 2224071797648 -->\n<g id=\"node7\" class=\"node\">\n<title>2224071797648</title>\n<polygon fill=\"none\" stroke=\"black\" points=\"585,-55.5 585,-91.5 745.5,-91.5 745.5,-55.5 585,-55.5\"/>\n<text xml:space=\"preserve\" text-anchor=\"middle\" x=\"596\" y=\"-68.7\" font-family=\"Times New Roman,serif\" font-size=\"14.00\">e</text>\n<polyline fill=\"none\" stroke=\"black\" points=\"607,-56 607,-91.5\"/>\n<text xml:space=\"preserve\" text-anchor=\"middle\" x=\"640.12\" y=\"-68.7\" font-family=\"Times New Roman,serif\" font-size=\"14.00\">data 4.00</text>\n<polyline fill=\"none\" stroke=\"black\" points=\"673.25,-56 673.25,-91.5\"/>\n<text xml:space=\"preserve\" text-anchor=\"middle\" x=\"709.38\" y=\"-68.7\" font-family=\"Times New Roman,serif\" font-size=\"14.00\">grad &#45;2.00</text>\n</g>\n<!-- 2224071797648&#45;&gt;2224071789008* -->\n<g id=\"edge7\" class=\"edge\">\n<title>2224071797648&#45;&gt;2224071789008*</title>\n<path fill=\"none\" stroke=\"black\" d=\"M745.96,-57.7C754.68,-55.97 763.22,-54.28 771.03,-52.73\"/>\n<polygon fill=\"black\" stroke=\"black\" points=\"771.63,-56.18 780.76,-50.8 770.27,-49.31 771.63,-56.18\"/>\n</g>\n<!-- 2224071797648+&#45;&gt;2224071797648 -->\n<g id=\"edge2\" class=\"edge\">\n<title>2224071797648+&#45;&gt;2224071797648</title>\n<path fill=\"none\" stroke=\"black\" d=\"M549.24,-73.5C556.47,-73.5 564.76,-73.5 573.49,-73.5\"/>\n<polygon fill=\"black\" stroke=\"black\" points=\"573.22,-77 583.22,-73.5 573.22,-70 573.22,-77\"/>\n</g>\n<!-- 2224071435216 -->\n<g id=\"node9\" class=\"node\">\n<title>2224071435216</title>\n<polygon fill=\"none\" stroke=\"black\" points=\"292.5,-83.5 292.5,-119.5 458.25,-119.5 458.25,-83.5 292.5,-83.5\"/>\n<text xml:space=\"preserve\" text-anchor=\"middle\" x=\"303.88\" y=\"-96.7\" font-family=\"Times New Roman,serif\" font-size=\"14.00\">d</text>\n<polyline fill=\"none\" stroke=\"black\" points=\"315.25,-84 315.25,-119.5\"/>\n<text xml:space=\"preserve\" text-anchor=\"middle\" x=\"350.62\" y=\"-96.7\" font-family=\"Times New Roman,serif\" font-size=\"14.00\">data &#45;6.00</text>\n<polyline fill=\"none\" stroke=\"black\" points=\"386,-84 386,-119.5\"/>\n<text xml:space=\"preserve\" text-anchor=\"middle\" x=\"422.12\" y=\"-96.7\" font-family=\"Times New Roman,serif\" font-size=\"14.00\">grad &#45;2.00</text>\n</g>\n<!-- 2224071435216&#45;&gt;2224071797648+ -->\n<g id=\"edge5\" class=\"edge\">\n<title>2224071435216&#45;&gt;2224071797648+</title>\n<path fill=\"none\" stroke=\"black\" d=\"M458.41,-85.62C467.49,-83.86 476.36,-82.14 484.44,-80.58\"/>\n<polygon fill=\"black\" stroke=\"black\" points=\"485,-84.04 494.15,-78.7 483.67,-77.16 485,-84.04\"/>\n</g>\n<!-- 2224071435216*&#45;&gt;2224071435216 -->\n<g id=\"edge3\" class=\"edge\">\n<title>2224071435216*&#45;&gt;2224071435216</title>\n<path fill=\"none\" stroke=\"black\" d=\"M255.94,-101.5C263.27,-101.5 271.68,-101.5 280.56,-101.5\"/>\n<polygon fill=\"black\" stroke=\"black\" points=\"280.51,-105 290.51,-101.5 280.51,-98 280.51,-105\"/>\n</g>\n</g>\n</svg>\n",
      "text/plain": "<graphviz.graphs.Digraph at 0x205d5024a10>"
     },
     "execution_count": 111,
     "metadata": {},
     "output_type": "execute_result"
    }
   ],
   "source": [
    "draw_dot(L)"
   ],
   "metadata": {
    "collapsed": false,
    "ExecuteTime": {
     "end_time": "2025-07-19T17:06:59.663967600Z",
     "start_time": "2025-07-19T17:06:59.535820600Z"
    }
   }
  },
  {
   "cell_type": "code",
   "execution_count": 110,
   "outputs": [],
   "source": [
    "f.grad = 4.0\n",
    "e.grad = -2.0\n",
    "d.grad = 1.0 * e.grad\n",
    "c.grad = 1.0 * e.grad\n",
    "b.grad = 2.0 * d.grad\n",
    "a.grad = -3.0 * d.grad"
   ],
   "metadata": {
    "collapsed": false,
    "ExecuteTime": {
     "end_time": "2025-07-19T17:06:56.862859200Z",
     "start_time": "2025-07-19T17:06:56.847305500Z"
    }
   }
  },
  {
   "cell_type": "code",
   "execution_count": 108,
   "outputs": [
    {
     "name": "stdout",
     "output_type": "stream",
     "text": [
      "-7.286496\n"
     ]
    }
   ],
   "source": [
    "a.data += 0.01 * a.grad\n",
    "b.data += 0.01 * b.grad\n",
    "c.data += 0.01 * c.grad\n",
    "f.data += 0.01 * f.grad\n",
    "\n",
    "d = a * b\n",
    "e = d + c\n",
    "L = e * f\n",
    "\n",
    "print(L.data)"
   ],
   "metadata": {
    "collapsed": false,
    "ExecuteTime": {
     "end_time": "2025-07-19T16:51:19.654582Z",
     "start_time": "2025-07-19T16:51:19.604007300Z"
    }
   }
  },
  {
   "cell_type": "code",
   "execution_count": 52,
   "outputs": [
    {
     "name": "stdout",
     "output_type": "stream",
     "text": [
      "{Value(data=2.0), Value(data=3.0)} *\n",
      "10.0\n"
     ]
    }
   ],
   "source": [
    "for node in e._prev:\n",
    "   if node._op:\n",
    "       print(node._prev, node._op)\n",
    "   else:\n",
    "       print(node.data)"
   ],
   "metadata": {
    "collapsed": false,
    "ExecuteTime": {
     "end_time": "2025-07-19T15:30:07.504274100Z",
     "start_time": "2025-07-19T15:30:07.484336300Z"
    }
   }
  },
  {
   "cell_type": "code",
   "execution_count": 121,
   "outputs": [],
   "source": [
    "import random\n",
    "import torch"
   ],
   "metadata": {
    "collapsed": false,
    "ExecuteTime": {
     "end_time": "2025-07-19T20:38:52.435981600Z",
     "start_time": "2025-07-19T20:38:52.422024Z"
    }
   }
  },
  {
   "cell_type": "code",
   "execution_count": 124,
   "outputs": [],
   "source": [
    "x1  = torch.tensor(2.0, requires_grad=True)\n",
    "x2  = torch.tensor(0.0, requires_grad=True)\n",
    "w1  = torch.tensor(1.0, requires_grad=True)\n",
    "w2  = torch.tensor(-3.0, requires_grad=True)\n",
    "b   = torch.tensor(6.8813735870195432, requires_grad=True)\n",
    "n   = x1*w1 + x2*w2 + b\n",
    "o = torch.tanh(n)\n",
    "o.backward()\n"
   ],
   "metadata": {
    "collapsed": false,
    "ExecuteTime": {
     "end_time": "2025-07-19T20:41:32.301920100Z",
     "start_time": "2025-07-19T20:41:32.286405200Z"
    }
   }
  },
  {
   "cell_type": "code",
   "execution_count": 133,
   "outputs": [
    {
     "data": {
      "text/plain": "[Value(data=0.8787605737512488),\n Value(data=0.6778106855550531),\n Value(data=-0.48098118535813156)]"
     },
     "execution_count": 133,
     "metadata": {},
     "output_type": "execute_result"
    }
   ],
   "source": [
    "class Neuron:\n",
    "    def __init__(self, nin):\n",
    "        self.w = [Value(random.uniform(-1,1)) for _ in range(nin)]\n",
    "        self.b = Value(random.uniform(-1,1))\n",
    "\n",
    "    def __call__(self, x):\n",
    "        act = sum((wi*xi for wi, xi in zip(self.w, x)), self.b)\n",
    "        out = act.tanh()\n",
    "        return out\n",
    "\n",
    "class Layer:\n",
    "    def __init__(self, nin, nout):\n",
    "        self.neurons = [Neuron(nin) for _ in range(nout)]\n",
    "\n",
    "    def __call__(self, x):\n",
    "        outs = [n(x) for n in self.neurons]\n",
    "        return outs\n",
    "\n",
    "x = [2.0, 3.0]\n",
    "n = Layer(2, 3)\n",
    "n(x)"
   ],
   "metadata": {
    "collapsed": false,
    "ExecuteTime": {
     "end_time": "2025-07-19T20:51:08.416131500Z",
     "start_time": "2025-07-19T20:51:08.415206100Z"
    }
   }
  },
  {
   "cell_type": "code",
   "execution_count": 135,
   "outputs": [
    {
     "ename": "AttributeError",
     "evalue": "'list' object has no attribute 'shape'",
     "output_type": "error",
     "traceback": [
      "\u001B[1;31m---------------------------------------------------------------------------\u001B[0m",
      "\u001B[1;31mAttributeError\u001B[0m                            Traceback (most recent call last)",
      "Cell \u001B[1;32mIn[135], line 1\u001B[0m\n\u001B[1;32m----> 1\u001B[0m \u001B[43mn\u001B[49m\u001B[38;5;241;43m.\u001B[39;49m\u001B[43mneurons\u001B[49m\u001B[38;5;241;43m.\u001B[39;49m\u001B[43mshape\u001B[49m()\n",
      "\u001B[1;31mAttributeError\u001B[0m: 'list' object has no attribute 'shape'"
     ]
    }
   ],
   "source": [
    "n.neurons.shape()"
   ],
   "metadata": {
    "collapsed": false,
    "ExecuteTime": {
     "end_time": "2025-07-19T21:03:38.018326Z",
     "start_time": "2025-07-19T21:03:38.005328400Z"
    }
   }
  },
  {
   "cell_type": "markdown",
   "source": [],
   "metadata": {
    "collapsed": false
   }
  }
 ],
 "metadata": {
  "kernelspec": {
   "display_name": "Python 3",
   "language": "python",
   "name": "python3"
  },
  "language_info": {
   "codemirror_mode": {
    "name": "ipython",
    "version": 2
   },
   "file_extension": ".py",
   "mimetype": "text/x-python",
   "name": "python",
   "nbconvert_exporter": "python",
   "pygments_lexer": "ipython2",
   "version": "2.7.6"
  }
 },
 "nbformat": 4,
 "nbformat_minor": 0
}
